{
 "cells": [
  {
   "cell_type": "code",
   "execution_count": 1,
   "metadata": {},
   "outputs": [
    {
     "data": {
      "text/html": [
       "<style scoped>\n",
       "  .ansiout {\n",
       "    display: block;\n",
       "    unicode-bidi: embed;\n",
       "    white-space: pre-wrap;\n",
       "    word-wrap: break-word;\n",
       "    word-break: break-all;\n",
       "    font-family: \"Source Code Pro\", \"Menlo\", monospace;;\n",
       "    font-size: 13px;\n",
       "    color: #555;\n",
       "    margin-left: 4px;\n",
       "    line-height: 19px;\n",
       "  }\n",
       "</style>\n",
       "<div class=\"ansiout\"></div>"
      ]
     },
     "metadata": {},
     "output_type": "display_data"
    }
   ],
   "source": [
    "# This notebook is data analysis of the medical using Databricks"
   ]
  },
  {
   "cell_type": "code",
   "execution_count": 2,
   "metadata": {},
   "outputs": [
    {
     "data": {
      "text/html": [
       "<style scoped>\n",
       "  .ansiout {\n",
       "    display: block;\n",
       "    unicode-bidi: embed;\n",
       "    white-space: pre-wrap;\n",
       "    word-wrap: break-word;\n",
       "    word-break: break-all;\n",
       "    font-family: \"Source Code Pro\", \"Menlo\", monospace;;\n",
       "    font-size: 13px;\n",
       "    color: #555;\n",
       "    margin-left: 4px;\n",
       "    line-height: 19px;\n",
       "  }\n",
       "</style>\n",
       "<div class=\"ansiout\"></div>"
      ]
     },
     "metadata": {},
     "output_type": "display_data"
    }
   ],
   "source": [
    "import pyspark\n",
    "from pyspark.sql.types import *\n",
    "import pyspark.sql.functions as func\n",
    "from pyspark.sql.functions import row_number\n",
    "from pyspark.sql.window import *\n"
   ]
  },
  {
   "cell_type": "code",
   "execution_count": 3,
   "metadata": {},
   "outputs": [
    {
     "data": {
      "text/html": [
       "<style scoped>\n",
       "  .ansiout {\n",
       "    display: block;\n",
       "    unicode-bidi: embed;\n",
       "    white-space: pre-wrap;\n",
       "    word-wrap: break-word;\n",
       "    word-break: break-all;\n",
       "    font-family: \"Source Code Pro\", \"Menlo\", monospace;;\n",
       "    font-size: 13px;\n",
       "    color: #555;\n",
       "    margin-left: 4px;\n",
       "    line-height: 19px;\n",
       "  }\n",
       "</style>\n",
       "<div class=\"ansiout\"></div>"
      ]
     },
     "metadata": {},
     "output_type": "display_data"
    }
   ],
   "source": [
    "# imaging.csv, diagnoses.csv and hearing_evaluation.csv have been uploaded to the databricks file system\n",
    "# The following steps loads the csv files onto Databricks dataframes"
   ]
  },
  {
   "cell_type": "code",
   "execution_count": 4,
   "metadata": {},
   "outputs": [],
   "source": [
    "# The following loads imaging.csv onto a dataframe name imaging_df\n",
    "\n",
    "file_directory = \"/FileStore/tables/imaging-2.csv/\"\n",
    "file_type = \"csv\"\n",
    "infer_schema = \"true\"\n",
    "first_row_is_header = \"true\"\n",
    "delimiter = \",\"\n",
    "\n",
    "imaging_df = spark.read.format(file_type) \\\n",
    "  .option(\"inferSchema\", infer_schema) \\\n",
    "  .option(\"header\", first_row_is_header) \\\n",
    "  .option(\"sep\", delimiter) \\\n",
    "  .load(file_directory)\n",
    "\n",
    "# This displays the dataframe created\n",
    "display(imaging_df)"
   ]
  },
  {
   "cell_type": "code",
   "execution_count": 5,
   "metadata": {},
   "outputs": [],
   "source": [
    "# The following loads diagnoses.csv onto a dataframe name diagnoses_df\n",
    "\n",
    "file_directory1 = \"/FileStore/tables/diagnoses.csv/\"\n",
    "file_type = \"csv\"\n",
    "infer_schema = \"true\"\n",
    "first_row_is_header = \"true\"\n",
    "delimiter = \",\"\n",
    "\n",
    "diagnoses_df = spark.read.format(file_type) \\\n",
    "  .option(\"inferSchema\", infer_schema) \\\n",
    "  .option(\"header\", first_row_is_header) \\\n",
    "  .option(\"sep\", delimiter) \\\n",
    "  .load(file_directory1)\n",
    "\n",
    "display(diagnoses_df)"
   ]
  },
  {
   "cell_type": "code",
   "execution_count": 6,
   "metadata": {},
   "outputs": [],
   "source": [
    "# The following loads hearing_evaluation.csv onto a dataframe name hearing_evaluation_df\n",
    "\n",
    "file_directory2 = \"/FileStore/tables/hearing_evaluation.csv\"\n",
    "file_type = \"csv\"\n",
    "infer_schema = \"true\"\n",
    "first_row_is_header = \"true\"\n",
    "delimiter = \",\"\n",
    "\n",
    "hearing_evaluation_df = spark.read.format(file_type) \\\n",
    "  .option(\"inferSchema\", infer_schema) \\\n",
    "  .option(\"header\", first_row_is_header) \\\n",
    "  .option(\"sep\", delimiter) \\\n",
    "  .load(file_directory2)\n",
    "\n",
    "display(hearing_evaluation_df)"
   ]
  },
  {
   "cell_type": "code",
   "execution_count": 7,
   "metadata": {},
   "outputs": [
    {
     "data": {
      "text/html": [
       "<style scoped>\n",
       "  .ansiout {\n",
       "    display: block;\n",
       "    unicode-bidi: embed;\n",
       "    white-space: pre-wrap;\n",
       "    word-wrap: break-word;\n",
       "    word-break: break-all;\n",
       "    font-family: \"Source Code Pro\", \"Menlo\", monospace;;\n",
       "    font-size: 13px;\n",
       "    color: #555;\n",
       "    margin-left: 4px;\n",
       "    line-height: 19px;\n",
       "  }\n",
       "</style>\n",
       "<div class=\"ansiout\">+--------------+------+\n",
       "diagnosis_code| count|\n",
       "+--------------+------+\n",
       "         V20.2|476228|\n",
       "    382.900000|272497|\n",
       "    389.900000|256345|\n",
       "    381.810000|213910|\n",
       "    465.900000|175831|\n",
       "+--------------+------+\n",
       "only showing top 5 rows\n",
       "\n",
       "</div>"
      ]
     },
     "metadata": {},
     "output_type": "display_data"
    }
   ],
   "source": [
    "#Problem statement 1 - 5 most diagnosis codes along with their frequencies\n",
    "# group diagnois codes, count and sort descending \n",
    "most_common_diagnosis_codes = diagnoses_df.groupby(\"diagnosis_code\").count().sort(\"count\", ascending=False)\n",
    "most_common_diagnosis_codes.show(5)"
   ]
  },
  {
   "cell_type": "code",
   "execution_count": 8,
   "metadata": {},
   "outputs": [
    {
     "data": {
      "text/html": [
       "<style scoped>\n",
       "  .ansiout {\n",
       "    display: block;\n",
       "    unicode-bidi: embed;\n",
       "    white-space: pre-wrap;\n",
       "    word-wrap: break-word;\n",
       "    word-break: break-all;\n",
       "    font-family: \"Source Code Pro\", \"Menlo\", monospace;;\n",
       "    font-size: 13px;\n",
       "    color: #555;\n",
       "    margin-left: 4px;\n",
       "    line-height: 19px;\n",
       "  }\n",
       "</style>\n",
       "<div class=\"ansiout\">+--------------+-----+\n",
       "diagnosis_code|count|\n",
       "+--------------+-----+\n",
       "    389.180000|   13|\n",
       "         V20.2|   12|\n",
       "    315.390000|    9|\n",
       "    493.900000|    9|\n",
       "    381.810000|    9|\n",
       "+--------------+-----+\n",
       "only showing top 5 rows\n",
       "\n",
       "</div>"
      ]
     },
     "metadata": {},
     "output_type": "display_data"
    }
   ],
   "source": [
    "# Problem statement 2\n",
    "# 5 most common diagnosis codes at the time of hearing evaluation\n",
    "\n",
    "# join diagnoses_df and hearing_evaluation_df on patient id and diagnosis age/evaluation age\n",
    "join_diagnoses_df_and_hearing_evaluation_df = diagnoses_df.join(hearing_evaluation_df,(diagnoses_df.patient_id==hearing_evaluation_df.patient_id) & (diagnoses_df.diagnosis_age==hearing_evaluation_df.evaluation_age) ,'inner')\n",
    "\n",
    "# group diagnois codes, count and sort descending \n",
    "most_common_diagnosis_codes_at_hearing = join_diagnoses_df_and_hearing_evaluation_df.groupby(\"diagnosis_code\").count().sort('count', ascending=False)\n",
    "\n",
    "most_common_diagnosis_codes_at_hearing.show(5)"
   ]
  },
  {
   "cell_type": "code",
   "execution_count": 9,
   "metadata": {},
   "outputs": [
    {
     "data": {
      "text/html": [
       "<style scoped>\n",
       "  .ansiout {\n",
       "    display: block;\n",
       "    unicode-bidi: embed;\n",
       "    white-space: pre-wrap;\n",
       "    word-wrap: break-word;\n",
       "    word-break: break-all;\n",
       "    font-family: \"Source Code Pro\", \"Menlo\", monospace;;\n",
       "    font-size: 13px;\n",
       "    color: #555;\n",
       "    margin-left: 4px;\n",
       "    line-height: 19px;\n",
       "  }\n",
       "</style>\n",
       "<div class=\"ansiout\">+----------+-----+\n",
       "patient_id|count|\n",
       "+----------+-----+\n",
       " 59VKSHG5W| 8557|\n",
       "+----------+-----+\n",
       "only showing top 1 row\n",
       "\n",
       "+----------+-----+\n",
       "patient_id|count|\n",
       "+----------+-----+\n",
       " 59VKSHG5W| 8557|\n",
       " S7ORRS7WB| 7828|\n",
       " 3SPYXMEMK| 7592|\n",
       " T2FMCCLFU| 6812|\n",
       " T9WIA97LK| 6504|\n",
       "+----------+-----+\n",
       "only showing top 5 rows\n",
       "\n",
       "</div>"
      ]
     },
     "metadata": {},
     "output_type": "display_data"
    }
   ],
   "source": [
    "#Problem statement 3 \n",
    "#highest number of diagnoses assigned to a single pateint \n",
    "# group patient_id, count, sort descending\n",
    "diagnoses_to_a_single_patient = diagnoses_df.groupBy(\"patient_id\").count().sort(\"count\", ascending=False)\n",
    "\n",
    "diagnoses_to_a_single_patient.show(1)\n",
    "\n",
    "#Problem Statement - additional analysis\n",
    "\n",
    "# To make sure dataset is sensible we can check the five patients with the most diagnoses\n",
    "diagnoses_to_a_single_patient.show(5)"
   ]
  },
  {
   "cell_type": "code",
   "execution_count": 10,
   "metadata": {},
   "outputs": [
    {
     "data": {
      "text/html": [
       "<style scoped>\n",
       "  .ansiout {\n",
       "    display: block;\n",
       "    unicode-bidi: embed;\n",
       "    white-space: pre-wrap;\n",
       "    word-wrap: break-word;\n",
       "    word-break: break-all;\n",
       "    font-family: \"Source Code Pro\", \"Menlo\", monospace;;\n",
       "    font-size: 13px;\n",
       "    color: #555;\n",
       "    margin-left: 4px;\n",
       "    line-height: 19px;\n",
       "  }\n",
       "</style>\n",
       "<div class=\"ansiout\">49008\n",
       "33892\n",
       "17858\n",
       "11417\n",
       "33.68641567331523\n",
       "</div>"
      ]
     },
     "metadata": {},
     "output_type": "display_data"
    }
   ],
   "source": [
    "#PROBLEM STATEMENT 4\n",
    "#Total number of different people with hearing problem compared to total number of people who have had a hearing evaluation \n",
    "\n",
    "#Total Number of people who had a hearing evaluation\n",
    "total_hearing_evaluation = hearing_evaluation_df.count()\n",
    "print(total_hearing_evaluation)\n",
    "#Total number of different(unique) people\n",
    "unique_hearing_evaluation = hearing_evaluation_df.select(\"patient_id\").distinct()\n",
    "print(unique_hearing_evaluation.count())\n",
    "\n",
    "#Total number of people diagnosed with hearing loss\n",
    "total_hearing_problems = hearing_evaluation_df.where((hearing_evaluation_df[\"severity_of_hearing_loss\"]).isin ('Moderate','Mild','Slight','Moderately Severe','Severe','Profound'))\n",
    "print(total_hearing_problems.count())\n",
    "\n",
    "#Total number of different(unique) patients who have been diagnosed with hearing problems \n",
    "distinct_hearing_problems= total_hearing_problems.select(\"patient_id\").distinct()\n",
    "print(distinct_hearing_problems.count())\n",
    "\n",
    "# percentage of those with hearing problem compared to total number of people who have had a hearing evaluation\n",
    "\n",
    "percentage_of_hearing_problems = distinct_hearing_problems.count()/unique_hearing_evaluation.count() * 100\n",
    "print(percentage_of_hearing_problems)"
   ]
  },
  {
   "cell_type": "code",
   "execution_count": 11,
   "metadata": {},
   "outputs": [
    {
     "data": {
      "text/html": [
       "<style scoped>\n",
       "  .ansiout {\n",
       "    display: block;\n",
       "    unicode-bidi: embed;\n",
       "    white-space: pre-wrap;\n",
       "    word-wrap: break-word;\n",
       "    word-break: break-all;\n",
       "    font-family: \"Source Code Pro\", \"Menlo\", monospace;;\n",
       "    font-size: 13px;\n",
       "    color: #555;\n",
       "    margin-left: 4px;\n",
       "    line-height: 19px;\n",
       "  }\n",
       "</style>\n",
       "<div class=\"ansiout\">+------------------------+-----+\n",
       "severity_of_hearing_loss|count|\n",
       "+------------------------+-----+\n",
       "                  Slight| 1619|\n",
       "       Moderately Severe| 2023|\n",
       "                Profound|  323|\n",
       "                  Severe|  229|\n",
       "                    Mild| 9887|\n",
       "                Moderate| 3777|\n",
       "+------------------------+-----+\n",
       "\n",
       "Mild: 55.364543\n",
       "Slight: 9.065965\n",
       "Moderate: 21.150185\n",
       "Moderately Severe: 11.328256\n",
       "Severe: 1.282338\n",
       "Profound: 1.808713\n",
       "</div>"
      ]
     },
     "metadata": {},
     "output_type": "display_data"
    }
   ],
   "source": [
    "#percentages of each severity of hearing loss for the total number of people with hearing loss\n",
    "\n",
    "# total number diagnosed with hearing loss\n",
    "total = total_hearing_problems.count()\n",
    "\n",
    "# patients diagnose with hearing loss\n",
    "diagnoses_severity_of_hearing_loss = hearing_evaluation_df.where(hearing_evaluation_df[\"severity_of_hearing_loss\"].isin(\"Mild\",\"Moderately Severe\",\"Slight\",\"Profound\", \"Severe\",\"Moderate\")).groupBy(\"severity_of_hearing_loss\").count()\n",
    "\n",
    "diagnoses_severity_of_hearing_loss.show()\n",
    "\n",
    "#percentage of each severity of hearing loss\n",
    "mild = float(diagnoses_severity_of_hearing_loss.where(diagnoses_severity_of_hearing_loss.severity_of_hearing_loss == 'Mild').select('count').collect()[0]['count']/total)*100\n",
    "slight = float(diagnoses_severity_of_hearing_loss.where(diagnoses_severity_of_hearing_loss.severity_of_hearing_loss == 'Slight').select('count').collect()[0]['count']/total)*100\n",
    "moderate = float(diagnoses_severity_of_hearing_loss.where(diagnoses_severity_of_hearing_loss.severity_of_hearing_loss == 'Moderate').select('count').collect()[0]['count']/total)*100\n",
    "mod_severe = float(diagnoses_severity_of_hearing_loss.where(diagnoses_severity_of_hearing_loss.severity_of_hearing_loss == 'Moderately Severe').select('count').collect()[0]['count']/total)*100\n",
    "severe = float(diagnoses_severity_of_hearing_loss.where(diagnoses_severity_of_hearing_loss.severity_of_hearing_loss == 'Severe').select('count').collect()[0]['count']/total)*100\n",
    "profound = float(diagnoses_severity_of_hearing_loss.where(diagnoses_severity_of_hearing_loss.severity_of_hearing_loss == 'Profound').select('count').collect()[0]['count']/total)*100\n",
    "print('Mild: %f' %(mild))\n",
    "print('Slight: %f'%(slight))\n",
    "print('Moderate: %f'%(moderate))\n",
    "print('Moderately Severe: %f'%(mod_severe))\n",
    "print('Severe: %f'%(severe))\n",
    "print('Profound: %f'%(profound))\n"
   ]
  },
  {
   "cell_type": "code",
   "execution_count": 12,
   "metadata": {},
   "outputs": [
    {
     "data": {
      "text/html": [
       "<style scoped>\n",
       "  .ansiout {\n",
       "    display: block;\n",
       "    unicode-bidi: embed;\n",
       "    white-space: pre-wrap;\n",
       "    word-wrap: break-word;\n",
       "    word-break: break-all;\n",
       "    font-family: \"Source Code Pro\", \"Menlo\", monospace;;\n",
       "    font-size: 13px;\n",
       "    color: #555;\n",
       "    margin-left: 4px;\n",
       "    line-height: 19px;\n",
       "  }\n",
       "</style>\n",
       "<div class=\"ansiout\">11417\n",
       "3249\n",
       "637\n",
       "5.579399141630901\n",
       "</div>"
      ]
     },
     "metadata": {},
     "output_type": "display_data"
    }
   ],
   "source": [
    "#PROBLEM STATEMENT 5\n",
    "#Focusing on the patients with hearing loss, the client would like to know the average number of CT / MT / SC investigations performed on them. Both the number of investigations and the total number of patients with hearing loss as well as the average should be presented.\n",
    "\n",
    "#number of patients with hearing loss\n",
    "print(distinct_hearing_problems.count())\n",
    "\n",
    "#Total number of investigations \n",
    "print(imaging_df.count())\n",
    "\n",
    "#Number of patients with hearing loss that scans performed on them \n",
    "join_hearing_and_imaging = distinct_hearing_problems.join(imaging_df,(distinct_hearing_problems.patient_id==imaging_df.patient_id),'inner')\n",
    "print(join_hearing_and_imaging.count())\n",
    "\n",
    "# Working out the perecentage of investigations performed on those with hearing problems\n",
    "average  = join_hearing_and_imaging.count()/distinct_hearing_problems.count()\n",
    "percentage_average = average * 100\n",
    "print(percentage_average)\n"
   ]
  },
  {
   "cell_type": "code",
   "execution_count": 13,
   "metadata": {},
   "outputs": [
    {
     "data": {
      "text/html": [
       "<style scoped>\n",
       "  .ansiout {\n",
       "    display: block;\n",
       "    unicode-bidi: embed;\n",
       "    white-space: pre-wrap;\n",
       "    word-wrap: break-word;\n",
       "    word-break: break-all;\n",
       "    font-family: \"Source Code Pro\", \"Menlo\", monospace;;\n",
       "    font-size: 13px;\n",
       "    color: #555;\n",
       "    margin-left: 4px;\n",
       "    line-height: 19px;\n",
       "  }\n",
       "</style>\n",
       "<div class=\"ansiout\">+--------+-----+\n",
       "modality|count|\n",
       "+--------+-----+\n",
       "      SC|    1|\n",
       "      CT|  363|\n",
       "      MR|  273|\n",
       "+--------+-----+\n",
       "\n",
       "Total patients = 11417\n",
       "Total Investigations = 637\n",
       "MR scans = 42.857143\n",
       "CT scans = 56.985871\n",
       "SC scans = 0.156986\n",
       "</div>"
      ]
     },
     "metadata": {},
     "output_type": "display_data"
    }
   ],
   "source": [
    "pt = join_hearing_and_imaging.groupBy('modality').count()\n",
    "pt.show(5)\n",
    "\n",
    "total_inv = float(join_hearing_and_imaging.count())\n",
    "total1 = float(distinct_hearing_problems.count())\n",
    "MR = float(pt.where(pt.modality == 'MR').select('count').collect()[0]['count']/total_inv)*100\n",
    "CT = float(pt.where(pt.modality == 'CT').select('count').collect()[0]['count']/total_inv)*100\n",
    "SC = float(pt.where(pt.modality == 'SC').select('count').collect()[0]['count']/total_inv)*100\n",
    "print('Total patients = %d' %total1)\n",
    "print('Total Investigations = %d' %total_inv)\n",
    "print('MR scans = %f'%MR)\n",
    "print('CT scans = %f'%CT)\n",
    "print('SC scans = %f'%SC)\n"
   ]
  },
  {
   "cell_type": "code",
   "execution_count": 14,
   "metadata": {},
   "outputs": [
    {
     "data": {
      "text/html": [
       "<style scoped>\n",
       "  .ansiout {\n",
       "    display: block;\n",
       "    unicode-bidi: embed;\n",
       "    white-space: pre-wrap;\n",
       "    word-wrap: break-word;\n",
       "    word-break: break-all;\n",
       "    font-family: \"Source Code Pro\", \"Menlo\", monospace;;\n",
       "    font-size: 13px;\n",
       "    color: #555;\n",
       "    margin-left: 4px;\n",
       "    line-height: 19px;\n",
       "  }\n",
       "</style>\n",
       "<div class=\"ansiout\">+---+-----+\n",
       "age|count|\n",
       "+---+-----+\n",
       "  2|  213|\n",
       "  3|  210|\n",
       "  5|  202|\n",
       "  0|  160|\n",
       "  8|  119|\n",
       "  7|  115|\n",
       " 10|  100|\n",
       "  9|   95|\n",
       "  1|   94|\n",
       " 13|   84|\n",
       "+---+-----+\n",
       "only showing top 10 rows\n",
       "\n",
       "</div>"
      ]
     },
     "metadata": {},
     "output_type": "display_data"
    }
   ],
   "source": [
    "#problem statement 6\n",
    "#Looking specifically at CT imaging, the client would like to know the year group (i.e. you will need to group the ages of encounter into years) which is given the greatest number of CTs.\n",
    "\n",
    "greatest_number_of_CTs_on_age = imaging_df.where(imaging_df['modality'].isin('CT'))\\\n",
    ".groupBy(imaging_df.imaging_age.cast(IntegerType())).count().sort('count', ascending=False)\\\n",
    ".withColumnRenamed('CAST(imaging_age AS INT)','age')\n",
    "\n",
    "greatest_number_of_CTs_on_age.show(10)"
   ]
  },
  {
   "cell_type": "code",
   "execution_count": 15,
   "metadata": {},
   "outputs": [
    {
     "data": {
      "text/html": [
       "<style scoped>\n",
       "  .ansiout {\n",
       "    display: block;\n",
       "    unicode-bidi: embed;\n",
       "    white-space: pre-wrap;\n",
       "    word-wrap: break-word;\n",
       "    word-break: break-all;\n",
       "    font-family: \"Source Code Pro\", \"Menlo\", monospace;;\n",
       "    font-size: 13px;\n",
       "    color: #555;\n",
       "    margin-left: 4px;\n",
       "    line-height: 19px;\n",
       "  }\n",
       "</style>\n",
       "<div class=\"ansiout\">+---------+--------------+------+\n",
       "age_group|diagnosis_code| count|\n",
       "+---------+--------------+------+\n",
       "        0|         V20.2|148071|\n",
       "        2|    382.900000| 72800|\n",
       "        1|         V20.2| 54298|\n",
       "        3|         V20.2| 48738|\n",
       "        5|         V20.2| 40079|\n",
       "        8|         V20.2| 17314|\n",
       "        7|         V20.2| 17284|\n",
       "        9|         V20.2| 14998|\n",
       "        4|    382.900000| 12547|\n",
       "       10|         V20.2| 10611|\n",
       "       11|         V20.2| 10563|\n",
       "       12|         V20.2|  9960|\n",
       "       13|         V20.2|  8213|\n",
       "        6|    381.810000|  7526|\n",
       "       14|         V20.2|  4170|\n",
       "       16|         V20.2|  2759|\n",
       "       17|         V20.2|  2615|\n",
       "       15|         V20.2|  2123|\n",
       "       18|    389.180000|  1506|\n",
       "       19|    277.000000|  1245|\n",
       "+---------+--------------+------+\n",
       "only showing top 20 rows\n",
       "\n",
       "</div>"
      ]
     },
     "metadata": {},
     "output_type": "display_data"
    }
   ],
   "source": [
    "#PROBLEM STATEMENT 7\n",
    "#For each year group, the client would like to visualize the most frequent diagnosis code\n",
    "\n",
    "#round diagnosis age, group diagnosis age and diagnosis code and count frequncy of each diagnosis code for each group\n",
    "\n",
    "frequency_of_diagnosis_code = diagnoses_df.groupby(diagnoses_df.diagnosis_age.cast(IntegerType()),\"diagnosis_code\").count().sort('count', ascending=False)\\\n",
    ".withColumnRenamed('CAST(diagnosis_age AS INT)','age_group')\n",
    "\n",
    "#For each group show only the most frequent diagnosis code and its count   \n",
    "\n",
    "most_frequent_diagnosis_code = frequency_of_diagnosis_code.withColumn(\"maxrow_num\", func.max(\"count\").over(Window.partitionBy(\"age_group\")))\\\n",
    ".where(func.col(\"count\") == func.col(\"maxrow_num\")).drop(\"maxrow_num\").sort('count', ascending=False)\n",
    "\n",
    "most_frequent_diagnosis_code.show()\n"
   ]
  },
  {
   "cell_type": "code",
   "execution_count": 16,
   "metadata": {},
   "outputs": [
    {
     "data": {
      "text/html": [
       "<style scoped>\n",
       "  .ansiout {\n",
       "    display: block;\n",
       "    unicode-bidi: embed;\n",
       "    white-space: pre-wrap;\n",
       "    word-wrap: break-word;\n",
       "    word-break: break-all;\n",
       "    font-family: \"Source Code Pro\", \"Menlo\", monospace;;\n",
       "    font-size: 13px;\n",
       "    color: #555;\n",
       "    margin-left: 4px;\n",
       "    line-height: 19px;\n",
       "  }\n",
       "</style>\n",
       "<div class=\"ansiout\"></div>"
      ]
     },
     "metadata": {},
     "output_type": "display_data"
    }
   ],
   "source": [
    "from pyspark.sql import SQLContext\n",
    "sqlCtx = SQLContext(sc)\n",
    "from pyspark.rdd import RDD"
   ]
  },
  {
   "cell_type": "code",
   "execution_count": 17,
   "metadata": {},
   "outputs": [
    {
     "data": {
      "text/html": [
       "<style scoped>\n",
       "  .ansiout {\n",
       "    display: block;\n",
       "    unicode-bidi: embed;\n",
       "    white-space: pre-wrap;\n",
       "    word-wrap: break-word;\n",
       "    word-break: break-all;\n",
       "    font-family: \"Source Code Pro\", \"Menlo\", monospace;;\n",
       "    font-size: 13px;\n",
       "    color: #555;\n",
       "    margin-left: 4px;\n",
       "    line-height: 19px;\n",
       "  }\n",
       "</style>\n",
       "<div class=\"ansiout\"></div>"
      ]
     },
     "metadata": {},
     "output_type": "display_data"
    }
   ],
   "source": [
    "imaging = sc.textFile(\"/FileStore/tables/imaging-2.csv/\")\n",
    "diagnoses = sc.textFile(\"/FileStore/tables/diagnoses.csv/\")\n",
    "hearing_evaluation = sc.textFile(\"/FileStore/tables/hearing_evaluation.csv\")"
   ]
  },
  {
   "cell_type": "code",
   "execution_count": 18,
   "metadata": {},
   "outputs": [
    {
     "data": {
      "text/html": [
       "<style scoped>\n",
       "  .ansiout {\n",
       "    display: block;\n",
       "    unicode-bidi: embed;\n",
       "    white-space: pre-wrap;\n",
       "    word-wrap: break-word;\n",
       "    word-break: break-all;\n",
       "    font-family: \"Source Code Pro\", \"Menlo\", monospace;;\n",
       "    font-size: 13px;\n",
       "    color: #555;\n",
       "    margin-left: 4px;\n",
       "    line-height: 19px;\n",
       "  }\n",
       "</style>\n",
       "<div class=\"ansiout\">Out[19]: [[&#39;00R99YUB4&#39;, &#39;8.15341238568207&#39;, &#39;CT&#39;],\n",
       " [&#39;0263DNQG8&#39;, &#39;0.078671260881339&#39;, &#39;CT&#39;],\n",
       " [&#39;02AQQ4CLC&#39;, &#39;5.47329158513104&#39;, &#39;MR&#39;],\n",
       " [&#39;02AQQ4CLC&#39;, &#39;5.58251725238167&#39;, &#39;MR&#39;],\n",
       " [&#39;02AQQ4CLC&#39;, &#39;5.72791714662045&#39;, &#39;MR&#39;]]</div>"
      ]
     },
     "metadata": {},
     "output_type": "display_data"
    }
   ],
   "source": [
    "#Remove headers, \"\" and comma delimter in each of the three csv files \n",
    "\n",
    "# imaging evaluation \n",
    "imaging_header = imaging.first()\n",
    "imaging_rdd = imaging.filter(lambda row: row != imaging_header ).map(lambda x: x.replace('\"','').split(\",\"))\n",
    "# diagnoses evalaution \n",
    "diagnoses_header = diagnoses.first()\n",
    "diagnoses_rdd=diagnoses.filter(lambda row: row != diagnoses_header ).map(lambda x: x.replace('\"','').split(\",\"))\n",
    "# hearing evaluation\n",
    "hearing_header = hearing_evaluation.first()\n",
    "hearing_evaluation_rdd = hearing_evaluation.filter(lambda row: row != hearing_header).map(lambda x: x.replace('\"','').split(\",\"))\n",
    "\n",
    "# check output\n",
    "imaging_rdd.take(5)"
   ]
  },
  {
   "cell_type": "code",
   "execution_count": 19,
   "metadata": {},
   "outputs": [
    {
     "data": {
      "text/html": [
       "<style scoped>\n",
       "  .ansiout {\n",
       "    display: block;\n",
       "    unicode-bidi: embed;\n",
       "    white-space: pre-wrap;\n",
       "    word-wrap: break-word;\n",
       "    word-break: break-all;\n",
       "    font-family: \"Source Code Pro\", \"Menlo\", monospace;;\n",
       "    font-size: 13px;\n",
       "    color: #555;\n",
       "    margin-left: 4px;\n",
       "    line-height: 19px;\n",
       "  }\n",
       "</style>\n",
       "<div class=\"ansiout\">Out[20]: [(&#39;V20.2&#39;, 476228),\n",
       " (&#39;382.900000&#39;, 272497),\n",
       " (&#39;389.900000&#39;, 256345),\n",
       " (&#39;381.810000&#39;, 213910),\n",
       " (&#39;465.900000&#39;, 175831)]</div>"
      ]
     },
     "metadata": {},
     "output_type": "display_data"
    }
   ],
   "source": [
    "# Problem Statement 5 \n",
    "#The 5 most common diagnosis codes along with their frequencies\n",
    "\n",
    "most_common_diagnosis_codes_rdd =diagnoses_rdd.map(lambda x: (x[1],1)).reduceByKey(lambda x1,y1: x1+y1).sortBy(lambda x: x[1], False)\n",
    "\n",
    "most_common_diagnosis_codes_rdd.take(5)"
   ]
  },
  {
   "cell_type": "code",
   "execution_count": 20,
   "metadata": {},
   "outputs": [
    {
     "data": {
      "text/html": [
       "<style scoped>\n",
       "  .ansiout {\n",
       "    display: block;\n",
       "    unicode-bidi: embed;\n",
       "    white-space: pre-wrap;\n",
       "    word-wrap: break-word;\n",
       "    word-break: break-all;\n",
       "    font-family: \"Source Code Pro\", \"Menlo\", monospace;;\n",
       "    font-size: 13px;\n",
       "    color: #555;\n",
       "    margin-left: 4px;\n",
       "    line-height: 19px;\n",
       "  }\n",
       "</style>\n",
       "<div class=\"ansiout\"></div>"
      ]
     },
     "metadata": {},
     "output_type": "display_data"
    }
   ],
   "source": [
    "#5 most common diagnosis codes at the time of hearing evaluation\n",
    "# select patient id, age and diagnoses code from diagnoses and select patient id, age from hearing evaluation and join both rdds together\n",
    "join_rdd = diagnoses_rdd.map(lambda x: ((x[0],x[2]),(x[1]))).join(hearing_evaluation_rdd.map(lambda x: ((x[0],x[1]),(x[3]))))\n",
    "\n",
    "#assign key value pair to diagnosis codes, combine values with the same key and then count frequency\n",
    "most_common_diagnosis_codes_at_hearing_rdd = join_rdd.map(lambda x: (x[1])).map(lambda x: (x[0])).map(lambda x: (x,1)).reduceByKey(lambda x1,y1: x1+y1).sortBy(lambda x: x[1], False)\n",
    "\n",
    "# five most common diagnoses code at time of hearing\n",
    "most_common_diagnosis_codes_at_hearing_rdd.take(5)"
   ]
  },
  {
   "cell_type": "code",
   "execution_count": 21,
   "metadata": {},
   "outputs": [
    {
     "data": {
      "text/html": [
       "<style scoped>\n",
       "  .ansiout {\n",
       "    display: block;\n",
       "    unicode-bidi: embed;\n",
       "    white-space: pre-wrap;\n",
       "    word-wrap: break-word;\n",
       "    word-break: break-all;\n",
       "    font-family: \"Source Code Pro\", \"Menlo\", monospace;;\n",
       "    font-size: 13px;\n",
       "    color: #555;\n",
       "    margin-left: 4px;\n",
       "    line-height: 19px;\n",
       "  }\n",
       "</style>\n",
       "<div class=\"ansiout\">Out[21]: [(&#39;59VKSHG5W&#39;, 8557)]</div>"
      ]
     },
     "metadata": {},
     "output_type": "display_data"
    }
   ],
   "source": [
    "# the highest number of diagnoses assigned to a single patient.\n",
    "diagnoses_to_a_single_patient_rdd = diagnoses_rdd.map(lambda x: (x[0],1)).reduceByKey(lambda v1,v2: v1+v2).sortBy(lambda x: x[1], False)\n",
    "diagnoses_to_a_single_patient_rdd.take(1)\n"
   ]
  },
  {
   "cell_type": "code",
   "execution_count": 22,
   "metadata": {},
   "outputs": [
    {
     "data": {
      "text/html": [
       "<style scoped>\n",
       "  .ansiout {\n",
       "    display: block;\n",
       "    unicode-bidi: embed;\n",
       "    white-space: pre-wrap;\n",
       "    word-wrap: break-word;\n",
       "    word-break: break-all;\n",
       "    font-family: \"Source Code Pro\", \"Menlo\", monospace;;\n",
       "    font-size: 13px;\n",
       "    color: #555;\n",
       "    margin-left: 4px;\n",
       "    line-height: 19px;\n",
       "  }\n",
       "</style>\n",
       "<div class=\"ansiout\">49008\n",
       "33892\n",
       "17858\n",
       "11417\n",
       "33.68641567331523\n",
       "</div>"
      ]
     },
     "metadata": {},
     "output_type": "display_data"
    }
   ],
   "source": [
    "#Total number of different people with hearing problem compared to total number of people who have had a hearing evaluation \n",
    "\n",
    "#Total Number of people who had a hearing evaluation\n",
    "total_hearing_evaluation_rdd = hearing_evaluation_rdd.count()\n",
    "print(total_hearing_evaluation_rdd)\n",
    "#Total number of different(unique) people\n",
    "unique_hearing_evaluation_rdd = hearing_evaluation_rdd.map(lambda x: x[0]).distinct().count()\n",
    "print(unique_hearing_evaluation_rdd)\n",
    "#Total number of people who have hearing problems, this number will include patients who have been diagnosed multiple of times \n",
    "\n",
    "severity_of_hearing_loss = ['Moderate','Mild','Slight','Moderately Severe','Severe','Profound']\n",
    "total_hearing_problems_rdd=hearing_evaluation_rdd.filter(lambda x: x[2] in severity_of_hearing_loss)\n",
    "\n",
    "print(total_hearing_problems_rdd.count())\n",
    "\n",
    "#Total number of different(unique) patients who have been diagnosed with hearing problems \n",
    "distinct_hearing_problems_rdd= total_hearing_problems_rdd.map(lambda x: x[0]).distinct()\n",
    "print(distinct_hearing_problems_rdd.count())\n",
    "\n",
    "# percentage of those with hearing problem compared to total number of people who have had a hearing evaluation\n",
    "percentage_of_hearing_problems = distinct_hearing_problems_rdd.count()/unique_hearing_evaluation_rdd * 100\n",
    "print(percentage_of_hearing_problems)"
   ]
  },
  {
   "cell_type": "code",
   "execution_count": 23,
   "metadata": {},
   "outputs": [
    {
     "data": {
      "text/html": [
       "<style scoped>\n",
       "  .ansiout {\n",
       "    display: block;\n",
       "    unicode-bidi: embed;\n",
       "    white-space: pre-wrap;\n",
       "    word-wrap: break-word;\n",
       "    word-break: break-all;\n",
       "    font-family: \"Source Code Pro\", \"Menlo\", monospace;;\n",
       "    font-size: 13px;\n",
       "    color: #555;\n",
       "    margin-left: 4px;\n",
       "    line-height: 19px;\n",
       "  }\n",
       "</style>\n",
       "<div class=\"ansiout\">17858\n",
       "3249\n",
       "637\n",
       "5.579399141630901\n",
       "</div>"
      ]
     },
     "metadata": {},
     "output_type": "display_data"
    }
   ],
   "source": [
    "# Focusing on the patients with hearing loss, the client would like to know the average number of CT / MT / SC investigations performed on them. Both the number of investigations and the total number of patients with hearing loss as well as the average should be presented.\n",
    "\n",
    "#number of patients with hearing loss\n",
    "print(total_hearing_problems_rdd.count())\n",
    "\n",
    "#Total number of investigations \n",
    "print(imaging_rdd.count())\n",
    "\n",
    "#Number of patients with hearing loss that scans performed on them \n",
    "join_hearing_and_imaging_rdd = total_hearing_problems_rdd.map(lambda x: (x[0],1)).reduceByKey(lambda x1,y1: x1+y1).join(imaging_rdd.map(lambda x: ((x[0]),(x[1]))))\n",
    "\n",
    "print(join_hearing_and_imaging_rdd.count())\n",
    "\n",
    "# Working out the perecentage of investigations performed on those with hearing problems\n",
    "average = (join_hearing_and_imaging_rdd.count()/distinct_hearing_problems_rdd.count()) *100\n",
    "\n",
    "print(average)"
   ]
  },
  {
   "cell_type": "code",
   "execution_count": 24,
   "metadata": {},
   "outputs": [
    {
     "data": {
      "text/html": [
       "<style scoped>\n",
       "  .ansiout {\n",
       "    display: block;\n",
       "    unicode-bidi: embed;\n",
       "    white-space: pre-wrap;\n",
       "    word-wrap: break-word;\n",
       "    word-break: break-all;\n",
       "    font-family: \"Source Code Pro\", \"Menlo\", monospace;;\n",
       "    font-size: 13px;\n",
       "    color: #555;\n",
       "    margin-left: 4px;\n",
       "    line-height: 19px;\n",
       "  }\n",
       "</style>\n",
       "<div class=\"ansiout\">Out[24]: [Row(age=2, count=213),\n",
       " Row(age=3, count=210),\n",
       " Row(age=5, count=202),\n",
       " Row(age=0, count=160),\n",
       " Row(age=8, count=119),\n",
       " Row(age=7, count=115),\n",
       " Row(age=10, count=100),\n",
       " Row(age=9, count=95),\n",
       " Row(age=1, count=94),\n",
       " Row(age=13, count=84)]</div>"
      ]
     },
     "metadata": {},
     "output_type": "display_data"
    }
   ],
   "source": [
    "#Looking specifically at CT imaging, the client would like to know the year group (i.e. you will need to group the ages of encounter into years) which is given the greatest number of CTs.\n",
    "\n",
    "greatest_number_of_CTs_on_age_rdd = imaging_rdd.filter(lambda x: x[1]=='CT').map(lambda x: (int(float(x[0])), x[1])).map(lambda x: (x[0], 1)).reduceByKey(lambda x1,y1: x1+y1).sortBy(lambda x: x[1],False)\n",
    "\n",
    "greatest_number_of_CTs_on_age.take(10)"
   ]
  }
 ],
 "metadata": {
  "kernelspec": {
   "display_name": "Python 2",
   "language": "python",
   "name": "python2"
  },
  "language_info": {
   "codemirror_mode": {
    "name": "ipython",
    "version": 2
   },
   "file_extension": ".py",
   "mimetype": "text/x-python",
   "name": "python",
   "nbconvert_exporter": "python",
   "pygments_lexer": "ipython2",
   "version": "2.7.16"
  },
  "name": "n2",
  "notebookId": 1142496891944148
 },
 "nbformat": 4,
 "nbformat_minor": 1
}
