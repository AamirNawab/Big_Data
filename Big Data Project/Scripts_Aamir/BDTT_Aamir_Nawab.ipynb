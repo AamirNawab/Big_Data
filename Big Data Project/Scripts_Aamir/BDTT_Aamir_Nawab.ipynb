{
 "cells": [
  {
   "cell_type": "markdown",
   "metadata": {},
   "source": [
    "# Aamir Nawab - BDTT ASSIGNMENT"
   ]
  },
  {
   "cell_type": "code",
   "execution_count": 2,
   "metadata": {},
   "outputs": [],
   "source": [
    "import pyspark\n",
    "import os\n",
    "import subprocess as sp"
   ]
  },
  {
   "cell_type": "markdown",
   "metadata": {},
   "source": [
    "First create directory and extract data.tgz in directory"
   ]
  },
  {
   "cell_type": "code",
   "execution_count": 3,
   "metadata": {},
   "outputs": [],
   "source": [
    "# Make new directory to put assignment files\n",
    "try:\n",
    "    sp.check_output(\"ls -l ~/assignment/Aamir_Nawab/juptyer_notebook/\", shell = True)\n",
    "except:\n",
    "    os.system(\"mkdir -p ~/assignment/Aamir_Nawab/juptyer_notebook/\")"
   ]
  },
  {
   "cell_type": "code",
   "execution_count": 4,
   "metadata": {},
   "outputs": [
    {
     "name": "stdout",
     "output_type": "stream",
     "text": [
      "File exists\n"
     ]
    }
   ],
   "source": [
    "# check if data.tgz is in downloads\n",
    "\n",
    "if sp.check_output(\"ls -l ~/Downloads/data.tgz\", shell = True):\n",
    "    print('File exists')\n",
    "else:\n",
    "    print(\"File Does Not Exist\")    "
   ]
  },
  {
   "cell_type": "code",
   "execution_count": 5,
   "metadata": {},
   "outputs": [
    {
     "name": "stdout",
     "output_type": "stream",
     "text": [
      "File Exists\n"
     ]
    }
   ],
   "source": [
    "# Move data.tgz to the directory created\n",
    "try:\n",
    "    sp.check_output(\"ls -l ~/assignment/Aamir_Nawab/juptyer_notebook/data.tgz\", shell = True)\n",
    "except:\n",
    "    os.system(\"cp ~/Downloads/data.tgz ~/assignment/Aamir_Nawab/juptyer_notebook/\")\n",
    "\n",
    "# see if that has worked\n",
    "if sp.check_output(\"ls -l ~/assignment/Aamir_Nawab/juptyer_notebook/data.tgz\", shell = True):\n",
    "    print('File Exists')\n",
    "else:\n",
    "    print(\"File Does Not Exist\")"
   ]
  },
  {
   "cell_type": "code",
   "execution_count": 6,
   "metadata": {},
   "outputs": [],
   "source": [
    "#extractdata.tgz to directory\n",
    "try: \n",
    "    sp.check_output(\"ls -l ~/assignment/Aamir_Nawab/juptyer_notebook/db_setup.sql\", shell = True)\n",
    "    sp.check_output(\"ls -l ~/assignment/Aamir_Nawab/juptyer_notebook/diagnoses.sql\", shell = True)\n",
    "    sp.check_output(\"ls -l ~/assignment/Aamir_Nawab/juptyer_notebook/hearing_evaluation.sql\", shell = True)\n",
    "    sp.check_output(\"ls -l ~/assignment/Aamir_Nawab/juptyer_notebook/imaging.sql\", shell = True)\n",
    "except:\n",
    "    os.system(\"tar xzvf ~/assignment/Aamir_Nawab/juptyer_notebook/data.tgz -C ~/assignment/Aamir_Nawab/juptyer_notebook\")"
   ]
  },
  {
   "cell_type": "code",
   "execution_count": 7,
   "metadata": {},
   "outputs": [
    {
     "name": "stdout",
     "output_type": "stream",
     "text": [
      "Files have been extracted\n"
     ]
    }
   ],
   "source": [
    "#Check if that has worked\n",
    "\n",
    "if sp.check_output(\"ls -l ~/assignment/Aamir_Nawab/juptyer_notebook/db_setup.sql\", shell = True)\\\n",
    "and sp.check_output(\"ls -l ~/assignment/Aamir_Nawab/juptyer_notebook/diagnoses.sql\", shell = True)\\\n",
    "and sp.check_output(\"ls -l ~/assignment/Aamir_Nawab/juptyer_notebook/hearing_evaluation.sql\", shell = True)\\\n",
    "and sp.check_output(\"ls -l ~/assignment/Aamir_Nawab/juptyer_notebook/imaging.sql\", shell = True):\n",
    "    print('Files have been extracted')\n",
    "else:\n",
    "    print('Files have not been extracted')"
   ]
  },
  {
   "cell_type": "markdown",
   "metadata": {},
   "source": [
    "# Pre-Processing"
   ]
  },
  {
   "cell_type": "code",
   "execution_count": 8,
   "metadata": {},
   "outputs": [],
   "source": [
    "# Run db_setup.sql, if statement to make not to run setup if tables already exists\n",
    "mysql_output = sp.Popen([\"mysql\", \"uroot\", \"--password=cloudera\", \"--database=assignment\", \"--execute=SHOW TABLES\"],\n",
    "                  stdout = sp.PIPE, stderr = sp.PIPE).communicate()\n",
    "\n",
    "if \"diagnoses\" and \"hearing_evaluation\" and \"imaging\" not in [i.split(\"\\n\") for i in mysql_output][0]:\n",
    "    os.system(\"mysql -uroot -pcloudera < ~/assignment/Aamir_Nawab/juptyer_notebook/db_setup.sql\")\n",
    "else:\n",
    "    for i in [i.split(\"\\n\") for i in mysql_output][0]:\n",
    "        print(i)"
   ]
  },
  {
   "cell_type": "code",
   "execution_count": 9,
   "metadata": {},
   "outputs": [
    {
     "name": "stdout",
     "output_type": "stream",
     "text": [
      "patient_id\tevaluation_age\tseverity_of_hearing_loss\tunilateral_or_bilateral\thas_conductive_hearing_loss\thas_sensorineural_hearing_loss\n",
      "000J1TN48\t2.11859389559818\tNormal\tInsufficient Data\tf\tf\n",
      "000JE5P7L\t3.38154832047061\tNormal\tInsufficient Data\tf\tf\n",
      "001M87HBZ\t5.19128693100837\tNormal\tInsufficient Data\tt\tf\n",
      "001M87HBZ\t8.24376339137186\tMild\tInsufficient Data\tt\tf\n",
      "002ANH0GH\t7.35543953897321\tNormal\tNormal\tf\tf\n",
      "\n"
     ]
    }
   ],
   "source": [
    "# if hearing_evaluation table not populated, populate with hearing_evaluation.sql\n",
    "hearing_output = sp.Popen([\"mysql\", \"-uroot\", \"--password=cloudera\", \"--database=assignment\",\n",
    "                   \"--execute=SELECT * FROM hearing_evaluation LIMIT 5\"],\n",
    "                   stdout = sp.PIPE, stderr = sp.PIPE).communicate()\n",
    "\n",
    "if hearing_output[0] == '' and hearing_output[1]=='':\n",
    "    os.system(\"cat ~/assignment/Aamir_Nawab/juptyer_notebook/hearing_evaluation.sql\\\n",
    "    | sort -u -t ',' -k 1,2 -s | grep -v 'NULL' | \\\n",
    "    mysql -uroot -pcloudera assignment\")\n",
    "    hearing_output_1 = sp.Popen([\"mysql\", \"-uroot\", \"--password=cloudera\", \"--database=assignment\",\n",
    "                  \"--execute=SELECT * FROM hearing_evaluation LIMIT 5\"],\n",
    "                   stdout = sp.PIPE, stderr = sp.PIPE).communicate()\n",
    "    for i in [i.split(\"\\n\") for i in hearing_output_1][0]:\n",
    "         print(i)\n",
    "else:\n",
    "    for i in [i.split(\"\\n\") for i in hearing_output][0]:\n",
    "         print(i)"
   ]
  },
  {
   "cell_type": "code",
   "execution_count": 10,
   "metadata": {},
   "outputs": [
    {
     "name": "stdout",
     "output_type": "stream",
     "text": [
      "patient_id\timaging_age\tmodality\n",
      "00R99YUB4\t8.15341238568207\tCT\n",
      "0263DNQG8\t0.078671260881339\tCT\n",
      "02AQQ4CLC\t5.47329158513104\tMR\n",
      "02AQQ4CLC\t5.58251725238167\tMR\n",
      "02AQQ4CLC\t5.72791714662045\tMR\n",
      "\n"
     ]
    }
   ],
   "source": [
    "# imaging table not populated, populate with imaging.sql\n",
    "imaging_output = sp.Popen([\"mysql\", \"-uroot\", \"--password=cloudera\", \"--database=assignment\",\n",
    "                   \"--execute=SELECT * FROM imaging LIMIT 5\"],\n",
    "                   stdout = sp.PIPE, stderr = sp.PIPE).communicate()\n",
    "\n",
    "if imaging_output[0] == '' and imaging_output[1]=='':\n",
    "    os.system(\"cat ~/assignment/Aamir_Nawab/juptyer_notebook/imaging.sql\\\n",
    "    | sort -u -t ',' -k 1,2 -s | grep -v 'NULL' | \\\n",
    "    mysql -uroot -pcloudera assignment\")\n",
    "    imaging_output_1 = sp.Popen([\"mysql\", \"-uroot\", \"--password=cloudera\", \"--database=assignment\",\n",
    "                   \"--execute=SELECT * FROM imaging LIMIT 5\"],\n",
    "                  stdout = sp.PIPE, stderr = sp.PIPE).communicate()\n",
    "    for i in [i.split(\"\\n\") for i in imaging_output_1][0]:\n",
    "        print(i)\n",
    "else:\n",
    "    for i in [i.split(\"\\n\") for i in imaging_output][0]:\n",
    "        print(i)"
   ]
  },
  {
   "cell_type": "code",
   "execution_count": 11,
   "metadata": {},
   "outputs": [
    {
     "name": "stdout",
     "output_type": "stream",
     "text": [
      "patient_id\tdiagnosis_code\tdiagnosis_age\n",
      "00008RINR\t315.320000\t2.18430371791803\n",
      "00008RINR\t315.350000\t3.86737218091803\n",
      "00008RINR\t333.100000\t3.2692940406742\n",
      "00008RINR\t372.140000\t2.43619137014411\n",
      "00008RINR\t375.200000\t3.42535486868384\n",
      "\n"
     ]
    }
   ],
   "source": [
    "# diagnoses table not populated, populate with diagnoses.sql\n",
    "\n",
    "diagnoses_output = sp.Popen([\"mysql\", \"-uroot\", \"--password=cloudera\", \"--database=assignment\",\n",
    "                   \"--execute=SELECT * FROM diagnoses LIMIT 5\"],\n",
    "                   stdout = sp.PIPE, stderr = sp.PIPE).communicate()\n",
    "\n",
    "if diagnoses_output[0] == '' and diagnoses_output[1]=='':\n",
    "    os.system(\"cat ~/assignment/Aamir_Nawab/juptyer_notebook/diagnoses.sql\\\n",
    "    | sort -u -t ',' -k 1,2 -s | grep -v 'NULL' | \\\n",
    "    mysql -uroot -pcloudera assignment\")\n",
    "    diagnoses_output_1 = sp.Popen([\"mysql\", \"-uroot\", \"--password=cloudera\", \"--database=assignment\",\n",
    "                   \"--execute=SELECT * FROM diagnoses LIMIT 5\"],\n",
    "                  stdout = sp.PIPE, stderr = sp.PIPE).communicate()\n",
    "    for i in [i.split(\"\\n\") for i in diagnoses_output_1][0]:\n",
    "        print(i)\n",
    "else:\n",
    "    for i in [i.split(\"\\n\") for i in diagnoses_output][0]:\n",
    "        print(i)"
   ]
  },
  {
   "cell_type": "code",
   "execution_count": 12,
   "metadata": {},
   "outputs": [
    {
     "name": "stdout",
     "output_type": "stream",
     "text": [
      "Found 3 items\n",
      "drwxr-xr-x   - cloudera supergroup          0 2020-06-11 04:50 /assignment/diagnoses\n",
      "drwxr-xr-x   - cloudera supergroup          0 2020-06-11 11:46 /assignment/hearing_evaluation\n",
      "drwxr-xr-x   - cloudera supergroup          0 2020-06-11 11:31 /assignment/imaging\n",
      "\n"
     ]
    }
   ],
   "source": [
    "#import all table with sqoop\n",
    "hdfs_output = sp.Popen([\"hdfs\", \"dfs\", \"-ls\", \"/assignment\"],\n",
    "                  stdout = sp.PIPE, stderr = sp.PIPE).communicate()\n",
    "if \"No such file or directory\" in hdfs_output:\n",
    "    os.system(\"sqoop import-all-tables --connect jdbc:mysql://localhost/assignment --username root \\\n",
    "    --password cloudera --fields-terminated-by '\\t' --warehouse-dir /assignment --as-parquetfile \\\n",
    "    --compression-codec snappy --driver com.mysql.jdbc.Driver --fetch-size -2147483648\")\n",
    "    sp.Popen([\"hdfs\", \"dfs\", \"-ls\", \"/assignment\"], stdout=sp.PIPE, stderr = sp.PIPE).communicate()\n",
    "# else print content of dir\n",
    "else:\n",
    "    print(hdfs_output[0])"
   ]
  },
  {
   "cell_type": "code",
   "execution_count": 13,
   "metadata": {},
   "outputs": [],
   "source": [
    "# chmod /tmp dir\n",
    "os.system(\"sudo chmod 0777 /tmp\")\n",
    "sp.Popen([\"hdfs\", \"dfsadmin\", \"-safemode\", \"leave\"], stdout=sp.PIPE, stderr = sp.PIPE).communicate()\n",
    "\n",
    "#dump tables from mysql and move the output .csv files from /tmp to /assignment if no there yet\n",
    "try:\n",
    "    sp.check_output(\"ls -l ~/assignment/Aamir_Nawab/juptyer_notebook/imaging.csv\", shell = True)\n",
    "    sp.check_output(\"ls -l ~/assignment/Aamir_Nawab/juptyer_notebook/hearing_evaluation.csv\", shell = True)\n",
    "    sp.check_output(\"ls -l ~/assignment/Aamir_Nawab/juptyer_notebook/diagnoses.csv\", shell = True)\n",
    "except:\n",
    "    #imaging.csv\n",
    "    sp.Popen([\"mysql\", \"-uroot\", \"--password=cloudera\", \"--database=assignment\",\n",
    "          \"--execute=SELECT 'patient_id', 'imaging_age', 'modality' UNION SELECT *\\\n",
    "            INTO OUTFILE '/tmp/imaging.csv' FIELDS TERMINATED BY ','ENCLOSED BY '\\\"'\\\n",
    "            ESCAPED BY '\\\\\\\\' LINES TERMINATED BY '\\\\n' FROM imaging;\"],\n",
    "            stdout=sp.PIPE, stderr=sp.PIPE).communicate()\n",
    "    #mv csv to assignment folder\n",
    "    os.system(\"sudo mv /tmp/imaging.csv ~/assignment/Aamir_Nawab/juptyer_notebook/imaging.csv\")\n",
    "    #hearing_evalutation.csv\n",
    "    sp.Popen([\"mysql\", \"-uroot\", \"--password=cloudera\", \"--database=assignment\",\n",
    "              \"--execute=SELECT 'patient_id', 'evaluation_age', 'severity_of_hearing_loss', \\\n",
    "              'unilateral_or_bilateral', 'has_conductive_hearing_loss', \\\n",
    "              'has_sensorineural_hearing_loss' UNION SELECT * \\\n",
    "              INTO OUTFILE '/tmp/hearing_evaluation.csv' FIELDS TERMINATED BY ','\\\n",
    "              ENCLOSED BY '\\\"' ESCAPED BY '\\\\\\\\' LINES TERMINATED BY '\\n' FROM hearing_evaluation;\"],\n",
    "             stdout=sp.PIPE, stderr=sp.PIPE).communicate()\n",
    "    #mv csv to assginment folder\n",
    "    os.system(\"sudo mv /tmp/hearing_evaluation.csv ~/assignment/Aamir_Nawab/juptyer_notebook/hearing_evaluation.csv\")\n",
    "    #diagnoses.csv\n",
    "    sp.Popen([\"mysql\", \"-uroot\", \"--password=cloudera\", \"--database=assignment\",\n",
    "              \"--execute=SELECT 'patient_id', 'diagnosis_code', 'diagnosis_age' UNION SELECT *\\\n",
    "              INTO OUTFILE '/tmp/diagnoses.csv' FIELDS TERMINATED BY ',' ENCLOSED BY '\\\"'\\\n",
    "              ESCAPED BY '\\\\\\\\' LINES TERMINATED BY '\\\\n' FROM diagnoses;\"],\n",
    "             stdout=sp.PIPE, stderr=sp.PIPE).communicate()\n",
    "    #mv csv to assignment folder\n",
    "    os.system(\"sudo mv /tmp/diagnoses.csv ~/assignment/Aamir_Nawab/juptyer_notebook/diagnoses.csv\")"
   ]
  },
  {
   "cell_type": "code",
   "execution_count": 14,
   "metadata": {},
   "outputs": [
    {
     "name": "stdout",
     "output_type": "stream",
     "text": [
      "-rw-rw-rw- 1 cloudera cloudera 115979 Aug 15 07:34 /home/cloudera/assignment/Aamir_Nawab/juptyer_notebook/imaging.csv\n",
      "\n",
      "-rw-rw-rw- 1 cloudera cloudera 3287120 Jun 11 07:28 /home/cloudera/assignment/Aamir_Nawab/juptyer_notebook/hearing_evaluation.csv\n",
      "\n",
      "-rw-rw-rw- 1 cloudera cloudera 549490852 Jun 11 07:42 /home/cloudera/assignment/Aamir_Nawab/juptyer_notebook/diagnoses.csv\n",
      "\n"
     ]
    }
   ],
   "source": [
    "#Check if CSV files in directory\n",
    "print (sp.check_output(\"ls -l ~/assignment/Aamir_Nawab/juptyer_notebook/imaging.csv\", shell = True))\n",
    "print (sp.check_output(\"ls -l ~/assignment/Aamir_Nawab/juptyer_notebook/hearing_evaluation.csv\", shell = True))\n",
    "print (sp.check_output(\"ls -l ~/assignment/Aamir_Nawab/juptyer_notebook/diagnoses.csv\", shell = True))\n"
   ]
  },
  {
   "cell_type": "markdown",
   "metadata": {},
   "source": [
    "# Load CSV files in Spark Dataframe"
   ]
  },
  {
   "cell_type": "code",
   "execution_count": 15,
   "metadata": {},
   "outputs": [],
   "source": [
    "from pyspark.sql.types import *\n",
    "import pandas as pd\n",
    "from pyspark.sql.functions import *\n",
    "from matplotlib import pyplot as plt\n",
    "%matplotlib inline\n",
    "import numpy as np\n",
    "import seaborn as sns\n",
    "from pyspark.sql import SQLContext\n",
    "sqlCtx = SQLContext(sc)"
   ]
  },
  {
   "cell_type": "code",
   "execution_count": 16,
   "metadata": {},
   "outputs": [],
   "source": [
    "#Create a Schema for loading Diagnoses.csv into a DataFrame\n",
    "diagnoses_schema = StructType ([StructField (\"patient_id\", StringType(), True),\\\n",
    "                              StructField (\"diagnosis_code\",StringType(), True),\\\n",
    "                              StructField (\"diagnosis_age\",DoubleType(), True)])"
   ]
  },
  {
   "cell_type": "code",
   "execution_count": 17,
   "metadata": {},
   "outputs": [],
   "source": [
    "# load csv file into DataFrame \n",
    "diagnoses_df = sqlCtx.read.format('com.databricks.spark.csv')\\\n",
    ".options(header = 'true').schema(diagnoses_schema)\\\n",
    ".load('file:/home/cloudera/assignment/Aamir_Nawab/juptyer_notebook/diagnoses.csv')"
   ]
  },
  {
   "cell_type": "code",
   "execution_count": 18,
   "metadata": {},
   "outputs": [
    {
     "name": "stdout",
     "output_type": "stream",
     "text": [
      "+----------+--------------+----------------+\n",
      "|patient_id|diagnosis_code|   diagnosis_age|\n",
      "+----------+--------------+----------------+\n",
      "| 00008RINR|    315.320000|2.18430371791803|\n",
      "| 00008RINR|    315.320000|2.80033330216659|\n",
      "| 00008RINR|    315.320000| 2.8222365762732|\n",
      "| 00008RINR|    315.320000|5.64822705794013|\n",
      "| 00008RINR|    315.320000|5.68655778752176|\n",
      "+----------+--------------+----------------+\n",
      "only showing top 5 rows\n",
      "\n"
     ]
    }
   ],
   "source": [
    "# Check if csv has been loaded into dataframe\n",
    "diagnoses_df.show(5)"
   ]
  },
  {
   "cell_type": "code",
   "execution_count": 19,
   "metadata": {},
   "outputs": [],
   "source": [
    "# creating schema for hearing _evaluation\n",
    "hearing_schema = StructType ([StructField (\"patient_id\", StringType(), True),\\\n",
    "                              StructField (\"evaluation_age\",DoubleType(), True),\\\n",
    "                              StructField (\"severity_of_hearing_loss\",StringType(), True),\\\n",
    "                              StructField (\"unilateral_or_bilateral\",StringType(), True),\\\n",
    "                              StructField (\"has_conductive_hearing_loss\",StringType(), True),\\\n",
    "                              StructField (\"has_sensorineural_hearing_loss\",StringType(), True)])"
   ]
  },
  {
   "cell_type": "code",
   "execution_count": 20,
   "metadata": {},
   "outputs": [],
   "source": [
    "#load csv into Dataframe\n",
    "hearing_evaluation_df = sqlCtx.read.format('com.databricks.spark.csv')\\\n",
    ".options(header = 'true').schema(hearing_schema)\\\n",
    ".load('file:/home/cloudera/assignment/Aamir_Nawab/juptyer_notebook/hearing_evaluation.csv')"
   ]
  },
  {
   "cell_type": "code",
   "execution_count": 21,
   "metadata": {},
   "outputs": [
    {
     "name": "stdout",
     "output_type": "stream",
     "text": [
      "+----------+----------------+------------------------+-----------------------+---------------------------+------------------------------+\n",
      "|patient_id|  evaluation_age|severity_of_hearing_loss|unilateral_or_bilateral|has_conductive_hearing_loss|has_sensorineural_hearing_loss|\n",
      "+----------+----------------+------------------------+-----------------------+---------------------------+------------------------------+\n",
      "| 000J1TN48|2.11859389559818|                  Normal|      Insufficient Data|                          f|                             f|\n",
      "| 000JE5P7L|3.38154832047061|                  Normal|      Insufficient Data|                          f|                             f|\n",
      "| 001M87HBZ|5.19128693100837|                  Normal|      Insufficient Data|                          t|                             f|\n",
      "| 001M87HBZ|8.24376339137186|                    Mild|      Insufficient Data|                          t|                             f|\n",
      "| 002ANH0GH|7.35543953897321|                  Normal|                 Normal|                          f|                             f|\n",
      "+----------+----------------+------------------------+-----------------------+---------------------------+------------------------------+\n",
      "only showing top 5 rows\n",
      "\n"
     ]
    }
   ],
   "source": [
    "#check if csv has loaded into dataframe\n",
    "hearing_evaluation_df.show(5)"
   ]
  },
  {
   "cell_type": "code",
   "execution_count": 22,
   "metadata": {},
   "outputs": [],
   "source": [
    "# creating schema for imaging \n",
    "imaging_schema = StructType ([StructField (\"patient_id\", StringType(), True),\\\n",
    "                              StructField (\"imaging_age\",DoubleType(), True),\\\n",
    "                              StructField (\"modality\",StringType(), True)])"
   ]
  },
  {
   "cell_type": "code",
   "execution_count": 23,
   "metadata": {},
   "outputs": [],
   "source": [
    "# load csv into dataframe\n",
    "imaging_df = sqlCtx.read.format('com.databricks.spark.csv')\\\n",
    ".options(header = 'true').schema(imaging_schema)\\\n",
    ".load('file:/home/cloudera/assignment/Aamir_Nawab/juptyer_notebook/imaging.csv')"
   ]
  },
  {
   "cell_type": "code",
   "execution_count": 24,
   "metadata": {},
   "outputs": [
    {
     "name": "stdout",
     "output_type": "stream",
     "text": [
      "+----------+-----------------+--------+\n",
      "|patient_id|      imaging_age|modality|\n",
      "+----------+-----------------+--------+\n",
      "| 00R99YUB4| 8.15341238568207|      CT|\n",
      "| 0263DNQG8|0.078671260881339|      CT|\n",
      "| 02AQQ4CLC| 5.47329158513104|      MR|\n",
      "| 02AQQ4CLC| 5.58251725238167|      MR|\n",
      "| 02AQQ4CLC| 5.72791714662045|      MR|\n",
      "+----------+-----------------+--------+\n",
      "only showing top 5 rows\n",
      "\n"
     ]
    }
   ],
   "source": [
    "imaging_df.show(5)"
   ]
  },
  {
   "cell_type": "markdown",
   "metadata": {},
   "source": [
    "# Load CSV into RDD "
   ]
  },
  {
   "cell_type": "code",
   "execution_count": 25,
   "metadata": {},
   "outputs": [],
   "source": [
    "from pyspark.rdd import RDD\n",
    "imaging = sc.textFile(\"file:///home/cloudera/assignment/Aamir_Nawab/juptyer_notebook/imaging.csv\")\n",
    "diagnoses = sc.textFile(\"file:///home/cloudera/assignment/Aamir_Nawab/juptyer_notebook/diagnoses.csv\")\n",
    "hearing_evaluation = sc.textFile(\"file:///home/cloudera/assignment/Aamir_Nawab/juptyer_notebook/hearing_evaluation.csv\")"
   ]
  },
  {
   "cell_type": "code",
   "execution_count": 26,
   "metadata": {},
   "outputs": [
    {
     "data": {
      "text/plain": [
       "[[u'00R99YUB4', u'8.15341238568207', u'CT'],\n",
       " [u'0263DNQG8', u'0.078671260881339', u'CT'],\n",
       " [u'02AQQ4CLC', u'5.47329158513104', u'MR'],\n",
       " [u'02AQQ4CLC', u'5.58251725238167', u'MR'],\n",
       " [u'02AQQ4CLC', u'5.72791714662045', u'MR']]"
      ]
     },
     "execution_count": 26,
     "metadata": {},
     "output_type": "execute_result"
    }
   ],
   "source": [
    "# imaging evaluation \n",
    "imaging_header = imaging.first()\n",
    "imaging_rdd = imaging.filter(lambda row: row != imaging_header ).map(lambda x: x.replace('\"','').split(\",\"))\n",
    "# diagnoses evalaution \n",
    "diagnoses_header = diagnoses.first()\n",
    "diagnoses_rdd=diagnoses.filter(lambda row: row != diagnoses_header ).map(lambda x: x.replace('\"','').split(\",\"))\n",
    "# hearing evaluation\n",
    "hearing_header = hearing_evaluation.first()\n",
    "hearing_evaluation_rdd = hearing_evaluation.filter(lambda row: row != hearing_header).map(lambda x: x.replace('\"','').split(\",\"))\n",
    "\n",
    "# check output\n",
    "imaging_rdd.take(5)"
   ]
  },
  {
   "cell_type": "markdown",
   "metadata": {},
   "source": [
    "# Problem statement 1 Spark DataFrame"
   ]
  },
  {
   "cell_type": "code",
   "execution_count": 27,
   "metadata": {},
   "outputs": [
    {
     "name": "stdout",
     "output_type": "stream",
     "text": [
      "+--------------+------+\n",
      "|diagnosis_code| count|\n",
      "+--------------+------+\n",
      "|         V20.2|476228|\n",
      "|    382.900000|272497|\n",
      "|    389.900000|256345|\n",
      "|    381.810000|213910|\n",
      "|    465.900000|175831|\n",
      "+--------------+------+\n",
      "only showing top 5 rows\n",
      "\n"
     ]
    }
   ],
   "source": [
    "most_common_diagnosis_codes = diagnoses_df.groupby(\"diagnosis_code\").count().sort(\"count\", ascending=False)\n",
    "most_common_diagnosis_codes.show(5)"
   ]
  },
  {
   "cell_type": "markdown",
   "metadata": {},
   "source": [
    "# Problem Statement 1 RDD "
   ]
  },
  {
   "cell_type": "code",
   "execution_count": 28,
   "metadata": {},
   "outputs": [
    {
     "data": {
      "text/plain": [
       "[(u'V20.2', 476228),\n",
       " (u'382.900000', 272497),\n",
       " (u'389.900000', 256345),\n",
       " (u'381.810000', 213910),\n",
       " (u'465.900000', 175831)]"
      ]
     },
     "execution_count": 28,
     "metadata": {},
     "output_type": "execute_result"
    }
   ],
   "source": [
    "#The 5 most common diagnosis codes along with their frequencies\n",
    "\n",
    "most_common_diagnosis_codes_rdd =diagnoses_rdd.map(lambda x: (x[1],1)).reduceByKey(lambda x1,y1: x1+y1).sortBy(lambda x: x[1], False)\n",
    "most_common_diagnosis_codes_rdd.take(5)"
   ]
  },
  {
   "cell_type": "markdown",
   "metadata": {},
   "source": [
    "# Problem Statement 1 Visualisation"
   ]
  },
  {
   "cell_type": "code",
   "execution_count": 29,
   "metadata": {},
   "outputs": [
    {
     "data": {
      "image/png": "[encoded data removed]",
      "text/plain": [
       "<Figure size 432x288 with 1 Axes>"
      ]
     },
     "metadata": {
      "needs_background": "light"
     },
     "output_type": "display_data"
    }
   ],
   "source": [
    "#Five Most Common Diagnosis codes\n",
    "\n",
    "most_common_diagnosis_codes_df = pd.DataFrame(data = most_common_diagnosis_codes.head(5))\n",
    "\n",
    "plt.bar(most_common_diagnosis_codes_df[0],most_common_diagnosis_codes_df[1])\n",
    "plt.xlabel('Diagnosis_code')\n",
    "plt.ylabel('Count')\n",
    "plt.title(' 5 Most common Diagnosis codes')\n",
    "plt.show()"
   ]
  },
  {
   "cell_type": "code",
   "execution_count": 30,
   "metadata": {},
   "outputs": [],
   "source": [
    "#mkdir to put problem statment csv solutions\n",
    "try:\n",
    "    sp.check_output(\"ls -l ~/assignment/Aamir_Nawab/juptyer_notebook/problem_statements/\", shell = True)\n",
    "except:\n",
    "    os.system(\"mkdir -p ~/assignment/Aamir_Nawab/juptyer_notebook/problem_statements/\")"
   ]
  },
  {
   "cell_type": "code",
   "execution_count": 33,
   "metadata": {},
   "outputs": [],
   "source": [
    "#create csv file for solution \n",
    "most_common_diagnosis_codes.limit(5).write.format('com.databricks.spark.csv')\\\n",
    ".save('file:///home/cloudera//assignment/Aamir_Nawab/juptyer_notebook/problem_statements/problem_statement_1')"
   ]
  },
  {
   "cell_type": "markdown",
   "metadata": {},
   "source": [
    "# Problem Statement 2 DataFrame"
   ]
  },
  {
   "cell_type": "code",
   "execution_count": 34,
   "metadata": {},
   "outputs": [
    {
     "name": "stdout",
     "output_type": "stream",
     "text": [
      "+--------------+-----+\n",
      "|diagnosis_code|count|\n",
      "+--------------+-----+\n",
      "|    389.180000|   13|\n",
      "|         V20.2|   12|\n",
      "|    389.900000|    9|\n",
      "|    493.900000|    9|\n",
      "|    315.390000|    9|\n",
      "+--------------+-----+\n",
      "only showing top 5 rows\n",
      "\n"
     ]
    }
   ],
   "source": [
    "# Problem statement 2\n",
    "# 5 most common diagnosis codes at the time of hearing evaluation\n",
    "\n",
    "# join diagnoses_df and hearing_evaluation_df on patient id and diagnosis age/evaluation age\n",
    "join_diagnoses_df_and_hearing_evaluation_df = diagnoses_df.join(hearing_evaluation_df,(diagnoses_df.patient_id==hearing_evaluation_df.patient_id) & (diagnoses_df.diagnosis_age==hearing_evaluation_df.evaluation_age) ,'inner')\n",
    "\n",
    "# group diagnois codes, count and sort descending \n",
    "most_common_diagnosis_codes_at_hearing = join_diagnoses_df_and_hearing_evaluation_df.groupby(\"diagnosis_code\").count().sort('count', ascending=False)\n",
    "\n",
    "most_common_diagnosis_codes_at_hearing.show(5)"
   ]
  },
  {
   "cell_type": "markdown",
   "metadata": {},
   "source": [
    "# Problem Statement 2 RDD"
   ]
  },
  {
   "cell_type": "code",
   "execution_count": 35,
   "metadata": {},
   "outputs": [
    {
     "data": {
      "text/plain": [
       "[(u'389.180000', 13),\n",
       " (u'V20.2', 12),\n",
       " (u'493.900000', 9),\n",
       " (u'389.900000', 9),\n",
       " (u'381.810000', 9)]"
      ]
     },
     "execution_count": 35,
     "metadata": {},
     "output_type": "execute_result"
    }
   ],
   "source": [
    "#5 most common diagnosis codes at the time of hearing evaluation\n",
    "# select patient id, age and diagnoses code from diagnoses and select patient id, age from hearing evaluation and join both rdds together\n",
    "join_rdd = diagnoses_rdd.map(lambda x: ((x[0],x[2]),(x[1]))).join(hearing_evaluation_rdd.map(lambda x: ((x[0],x[1]),(x[3]))))\n",
    "\n",
    "#assign key value pair to diagnosis codes, combine values with the same key and then count frequency\n",
    "most_common_diagnosis_codes_at_hearing_rdd = join_rdd.map(lambda x: (x[1])).map(lambda x: (x[0])).map(lambda x: (x,1)).reduceByKey(lambda x1,y1: x1+y1).sortBy(lambda x: x[1], False)\n",
    "\n",
    "# five most common diagnoses code at time of hearing\n",
    "most_common_diagnosis_codes_at_hearing_rdd.take(5)"
   ]
  },
  {
   "cell_type": "markdown",
   "metadata": {},
   "source": [
    "# Problem Statement 2 Data Visualisation"
   ]
  },
  {
   "cell_type": "code",
   "execution_count": 36,
   "metadata": {},
   "outputs": [
    {
     "data": {
      "image/png": "[encoded data removed]",
      "text/plain": [
       "<Figure size 432x288 with 1 Axes>"
      ]
     },
     "metadata": {},
     "output_type": "display_data"
    }
   ],
   "source": [
    "most_common_diagnosis_codes_at_hearing_df = pd.DataFrame(data = most_common_diagnosis_codes_at_hearing.head(5))\n",
    "\n",
    "sns.set_style('whitegrid')\n",
    "one = sns.barplot(x = most_common_diagnosis_codes_at_hearing_df[0], y =most_common_diagnosis_codes_at_hearing_df[1], data = most_common_diagnosis_codes_at_hearing_df )\n"
   ]
  },
  {
   "cell_type": "code",
   "execution_count": 37,
   "metadata": {},
   "outputs": [],
   "source": [
    "#create csv file for solution \n",
    "most_common_diagnosis_codes_at_hearing.limit(5).write.format('com.databricks.spark.csv')\\\n",
    ".save('file:///home/cloudera//assignment/Aamir_Nawab/juptyer_notebook/problem_statements/problem_statement_2')"
   ]
  },
  {
   "cell_type": "markdown",
   "metadata": {},
   "source": [
    "# Problem Stateament 3 Spark DataFrame"
   ]
  },
  {
   "cell_type": "code",
   "execution_count": 38,
   "metadata": {},
   "outputs": [
    {
     "name": "stdout",
     "output_type": "stream",
     "text": [
      "+----------+-----+\n",
      "|patient_id|count|\n",
      "+----------+-----+\n",
      "| 59VKSHG5W| 8557|\n",
      "+----------+-----+\n",
      "only showing top 1 row\n",
      "\n",
      "+----------+-----+\n",
      "|patient_id|count|\n",
      "+----------+-----+\n",
      "| 59VKSHG5W| 8557|\n",
      "| S7ORRS7WB| 7828|\n",
      "| 3SPYXMEMK| 7592|\n",
      "| T2FMCCLFU| 6812|\n",
      "| T9WIA97LK| 6504|\n",
      "+----------+-----+\n",
      "only showing top 5 rows\n",
      "\n"
     ]
    }
   ],
   "source": [
    "#Problem statement 3 \n",
    "#highest number of diagnoses assigned to a single pateint \n",
    "# group patient_id, count, sort descending\n",
    "diagnoses_to_a_single_patient = diagnoses_df.groupBy(\"patient_id\").count().sort(\"count\", ascending=False)\n",
    "\n",
    "diagnoses_to_a_single_patient.show(1)\n",
    "\n",
    "#Problem Statement - additional analysis\n",
    "\n",
    "# To make sure dataset is sensible we can check the five patients with the most diagnoses\n",
    "diagnoses_to_a_single_patient.show(5)"
   ]
  },
  {
   "cell_type": "markdown",
   "metadata": {},
   "source": [
    "# Problem Statement 3 RDD"
   ]
  },
  {
   "cell_type": "code",
   "execution_count": 39,
   "metadata": {},
   "outputs": [
    {
     "name": "stdout",
     "output_type": "stream",
     "text": [
      "+----------+-----+\n",
      "|patient_id|count|\n",
      "+----------+-----+\n",
      "| 59VKSHG5W| 8557|\n",
      "+----------+-----+\n",
      "only showing top 1 row\n",
      "\n"
     ]
    }
   ],
   "source": [
    "#Problem statement 3 \n",
    "#highest number of diagnoses assigned to a single pateint \n",
    "# group patient_id, count, sort descending\n",
    "diagnoses_to_a_single_patient = diagnoses_df.groupBy(\"patient_id\").count().sort(\"count\", ascending=False)\n",
    "\n",
    "diagnoses_to_a_single_patient.show(1)"
   ]
  },
  {
   "cell_type": "markdown",
   "metadata": {},
   "source": [
    "# Problem Statement 3 Visualisation "
   ]
  },
  {
   "cell_type": "code",
   "execution_count": 40,
   "metadata": {},
   "outputs": [
    {
     "data": {
      "image/png": "[encoded data removed]",
      "text/plain": [
       "<Figure size 640x400 with 1 Axes>"
      ]
     },
     "metadata": {},
     "output_type": "display_data"
    }
   ],
   "source": [
    "# The following shows the the 5 highest diagnoses performed on a patient\n",
    "\n",
    "diagnoses_to_a_single_patient_df = pd.DataFrame(data = diagnoses_to_a_single_patient.head(5))\n",
    "\n",
    "fig, ax = plt.subplots(figsize=(8,5), dpi= 80)\n",
    "ax.vlines(x=diagnoses_to_a_single_patient_df[0], ymin=0, ymax=diagnoses_to_a_single_patient_df[1], color='firebrick', alpha=0.7, linewidth=2)\n",
    "ax.scatter(x=diagnoses_to_a_single_patient_df[0], y=diagnoses_to_a_single_patient_df[1], s=75, color='firebrick', alpha=0.7)\n",
    "ax.set_title('Highest Number of Diagnoses for a Patient')\n",
    "ax.set_ylabel('Count')\n",
    "ax.set_xticks(diagnoses_to_a_single_patient_df[0])\n",
    "plt.show()"
   ]
  },
  {
   "cell_type": "code",
   "execution_count": 41,
   "metadata": {},
   "outputs": [],
   "source": [
    "#Load dataframe into csv file\n",
    "diagnoses_to_a_single_patient.limit(1).write.format('com.databricks.spark.csv')\\\n",
    ".save('file:///home/cloudera//assignment/Aamir_Nawab/juptyer_notebook/problem_statements/problem_statement_3')"
   ]
  },
  {
   "cell_type": "markdown",
   "metadata": {},
   "source": [
    "# Problem Statement 4 Spark Dataframe"
   ]
  },
  {
   "cell_type": "code",
   "execution_count": 42,
   "metadata": {},
   "outputs": [
    {
     "name": "stdout",
     "output_type": "stream",
     "text": [
      "49008\n",
      "33892\n",
      "17858\n",
      "11417\n",
      "33.6864156733\n"
     ]
    }
   ],
   "source": [
    "#PROBLEM STATEMENT 4\n",
    "#Total number of different people with hearing problem compared to total number of people who have had a hearing evaluation \n",
    "\n",
    "#Total Number of people who had a hearing evaluation\n",
    "total_hearing_evaluation = hearing_evaluation_df.count()\n",
    "print(total_hearing_evaluation)\n",
    "#Total number of different(unique) people\n",
    "unique_hearing_evaluation = hearing_evaluation_df.select(\"patient_id\").distinct()\n",
    "print(unique_hearing_evaluation.count())\n",
    "\n",
    "#Total number of people diagnosed with hearing loss\n",
    "total_hearing_problems = hearing_evaluation_df.where((hearing_evaluation_df[\"severity_of_hearing_loss\"]).isin ('Moderate','Mild','Slight','Moderately Severe','Severe','Profound'))\n",
    "print(total_hearing_problems.count())\n",
    "\n",
    "#Total number of different(unique) patients who have been diagnosed with hearing problems \n",
    "distinct_hearing_problems= total_hearing_problems.select(\"patient_id\").distinct()\n",
    "print(distinct_hearing_problems.count())\n",
    "\n",
    "# percentage of those with hearing problem compared to total number of people who have had a hearing evaluation\n",
    "\n",
    "percentage_of_hearing_problems = float(distinct_hearing_problems.count())/float(unique_hearing_evaluation.count()) * 100\n",
    "print(percentage_of_hearing_problems)"
   ]
  },
  {
   "cell_type": "markdown",
   "metadata": {},
   "source": [
    "# Problem Statement 4 RDD"
   ]
  },
  {
   "cell_type": "code",
   "execution_count": 43,
   "metadata": {},
   "outputs": [
    {
     "name": "stdout",
     "output_type": "stream",
     "text": [
      "49008\n",
      "33892\n",
      "17858\n",
      "11417\n",
      "33.6864156733\n"
     ]
    }
   ],
   "source": [
    "#Total number of different people with hearing problem compared to total number of people who have had a hearing evaluation \n",
    "\n",
    "#Total Number of people who had a hearing evaluation\n",
    "total_hearing_evaluation_rdd = hearing_evaluation_rdd.count()\n",
    "print(total_hearing_evaluation_rdd)\n",
    "#Total number of different(unique) people\n",
    "unique_hearing_evaluation_rdd = hearing_evaluation_rdd.map(lambda x: x[0]).distinct().count()\n",
    "print(unique_hearing_evaluation_rdd)\n",
    "#Total number of people who have hearing problems, this number will include patients who have been diagnosed multiple of times \n",
    "\n",
    "severity_of_hearing_loss = ['Moderate','Mild','Slight','Moderately Severe','Severe','Profound']\n",
    "total_hearing_problems_rdd=hearing_evaluation_rdd.filter(lambda x: x[2] in severity_of_hearing_loss)\n",
    "\n",
    "print(total_hearing_problems_rdd.count())\n",
    "\n",
    "#Total number of different(unique) patients who have been diagnosed with hearing problems \n",
    "distinct_hearing_problems_rdd= total_hearing_problems_rdd.map(lambda x: x[0]).distinct()\n",
    "print(distinct_hearing_problems_rdd.count())\n",
    "\n",
    "# percentage of those with hearing problem compared to total number of people who have had a hearing evaluation\n",
    "percentage_of_hearing_problems = float(distinct_hearing_problems_rdd.count())/float(unique_hearing_evaluation_rdd) * 100\n",
    "print(percentage_of_hearing_problems)"
   ]
  },
  {
   "cell_type": "markdown",
   "metadata": {},
   "source": [
    "# Problem Statement 4 - Extra analysis"
   ]
  },
  {
   "cell_type": "code",
   "execution_count": 44,
   "metadata": {},
   "outputs": [
    {
     "name": "stdout",
     "output_type": "stream",
     "text": [
      "+------------------------+-----+\n",
      "|severity_of_hearing_loss|count|\n",
      "+------------------------+-----+\n",
      "|                Profound|  323|\n",
      "|       Moderately Severe| 2023|\n",
      "|                Moderate| 3777|\n",
      "|                  Slight| 1619|\n",
      "|                  Severe|  229|\n",
      "|                    Mild| 9887|\n",
      "+------------------------+-----+\n",
      "\n",
      "Mild: 55.364543\n",
      "Slight: 9.065965\n",
      "Moderate: 21.150185\n",
      "Moderately Severe: 11.328256\n",
      "Severe: 1.282338\n",
      "Profound: 1.808713\n"
     ]
    }
   ],
   "source": [
    "#percentages of each severity of hearing loss for the total number of people with hearing loss\n",
    "\n",
    "# total number diagnosed with hearing loss\n",
    "total = float(total_hearing_problems.count())\n",
    "\n",
    "# patients diagnose with hearing loss\n",
    "diagnoses_severity_of_hearing_loss = hearing_evaluation_df.where(hearing_evaluation_df[\"severity_of_hearing_loss\"].isin(\"Mild\",\"Moderately Severe\",\"Slight\",\"Profound\", \"Severe\",\"Moderate\")).groupBy(\"severity_of_hearing_loss\").count()\n",
    "\n",
    "diagnoses_severity_of_hearing_loss.show()\n",
    "\n",
    "#percentage of each severity of hearing loss\n",
    "mild = float(diagnoses_severity_of_hearing_loss.where(diagnoses_severity_of_hearing_loss.severity_of_hearing_loss == 'Mild').select('count').collect()[0]['count']/total)*100\n",
    "slight = float(diagnoses_severity_of_hearing_loss.where(diagnoses_severity_of_hearing_loss.severity_of_hearing_loss == 'Slight').select('count').collect()[0]['count']/total)*100\n",
    "moderate = float(diagnoses_severity_of_hearing_loss.where(diagnoses_severity_of_hearing_loss.severity_of_hearing_loss == 'Moderate').select('count').collect()[0]['count']/total)*100\n",
    "mod_severe = float(diagnoses_severity_of_hearing_loss.where(diagnoses_severity_of_hearing_loss.severity_of_hearing_loss == 'Moderately Severe').select('count').collect()[0]['count']/total)*100\n",
    "severe = float(diagnoses_severity_of_hearing_loss.where(diagnoses_severity_of_hearing_loss.severity_of_hearing_loss == 'Severe').select('count').collect()[0]['count']/total)*100\n",
    "profound = float(diagnoses_severity_of_hearing_loss.where(diagnoses_severity_of_hearing_loss.severity_of_hearing_loss == 'Profound').select('count').collect()[0]['count']/total)*100\n",
    "print('Mild: %f' %(mild))\n",
    "print('Slight: %f'%(slight))\n",
    "print('Moderate: %f'%(moderate))\n",
    "print('Moderately Severe: %f'%(mod_severe))\n",
    "print('Severe: %f'%(severe))\n",
    "print('Profound: %f'%(profound))"
   ]
  },
  {
   "cell_type": "markdown",
   "metadata": {},
   "source": [
    "# Problem Statement 4 - Data Visualisation"
   ]
  },
  {
   "cell_type": "code",
   "execution_count": 45,
   "metadata": {},
   "outputs": [
    {
     "data": {
      "image/png": "[encoded data removed]",
      "text/plain": [
       "<Figure size 432x288 with 1 Axes>"
      ]
     },
     "metadata": {},
     "output_type": "display_data"
    }
   ],
   "source": [
    "# visualisation for additional analysis\n",
    "\n",
    "\n",
    "percent = [mild,mod_severe, slight, severe, profound, moderate]\n",
    "labels = ['mild','moderately severe', 'slight', 'severe', 'profound', 'moderate']\n",
    "plt.pie(x = percent, labels = labels,pctdistance = 0.85, rotatelabels  = True, startangle = 90)\n",
    "plt.tight_layout()\n",
    "plt.show()"
   ]
  },
  {
   "cell_type": "code",
   "execution_count": 72,
   "metadata": {},
   "outputs": [],
   "source": [
    "# Three answer client is looking for into RDD\n",
    "Problem_Statement_4 = sc.parallelize([total_hearing_evaluation,unique_hearing_evaluation.count(),percentage_of_hearing_problems])\n",
    "#RDD save as csv\n",
    "Problem_Statement_4.saveAsTextFile('file:///home/cloudera//assignment/Aamir_Nawab/juptyer_notebook/problem_statements/problem_statement_4.csv')\n"
   ]
  },
  {
   "cell_type": "markdown",
   "metadata": {},
   "source": [
    "# Problem Statement 5"
   ]
  },
  {
   "cell_type": "code",
   "execution_count": 73,
   "metadata": {},
   "outputs": [
    {
     "name": "stdout",
     "output_type": "stream",
     "text": [
      "11417\n",
      "3223\n",
      "627\n",
      "5.49181045809\n"
     ]
    }
   ],
   "source": [
    "#PROBLEM STATEMENT 5\n",
    "#Focusing on the patients with hearing loss, the client would like to know the average number of CT / MT / SC investigations performed on them. Both the number of investigations and the total number of patients with hearing loss as well as the average should be presented.\n",
    "\n",
    "#number of patients with hearing loss\n",
    "print(distinct_hearing_problems.count())\n",
    "\n",
    "#Total number of investigations \n",
    "print(imaging_df.count())\n",
    "\n",
    "#Number of patients with hearing loss that scans performed on them \n",
    "join_hearing_and_imaging = distinct_hearing_problems.join(imaging_df,(distinct_hearing_problems.patient_id==imaging_df.patient_id),'inner')\n",
    "print(join_hearing_and_imaging.count())\n",
    "\n",
    "# Working out the perecentage of investigations performed on those with hearing problems\n",
    "average  = float(join_hearing_and_imaging.count())/float(distinct_hearing_problems.count())\n",
    "percentage_average = average * 100\n",
    "print(percentage_average)\n"
   ]
  },
  {
   "cell_type": "markdown",
   "metadata": {},
   "source": [
    "# Problem Statement 5 - Additional Analysis"
   ]
  },
  {
   "cell_type": "code",
   "execution_count": 74,
   "metadata": {},
   "outputs": [
    {
     "name": "stdout",
     "output_type": "stream",
     "text": [
      "+--------+-----+\n",
      "|modality|count|\n",
      "+--------+-----+\n",
      "|      CT|  363|\n",
      "|      MR|  264|\n",
      "+--------+-----+\n",
      "\n",
      "Total patients = 11417\n",
      "Total Investigations = 627\n",
      "MR scans = 42.105263\n",
      "CT scans = 57.894737\n"
     ]
    }
   ],
   "source": [
    "pt = join_hearing_and_imaging.groupBy('modality').count()\n",
    "pt.show(5)\n",
    "\n",
    "total_inv = float(join_hearing_and_imaging.count())\n",
    "total1 = float(distinct_hearing_problems.count())\n",
    "MR = float(pt.where(pt.modality == 'MR').select('count').collect()[0]['count']/total_inv)*100\n",
    "CT = float(pt.where(pt.modality == 'CT').select('count').collect()[0]['count']/total_inv)*100\n",
    "\n",
    "\n",
    "print('Total patients = %d' %total1)\n",
    "print('Total Investigations = %d' %total_inv)\n",
    "print('MR scans = %f'%MR)\n",
    "print('CT scans = %f'%CT)\n"
   ]
  },
  {
   "cell_type": "markdown",
   "metadata": {},
   "source": [
    "# Problem Statement 5 - Visualisation"
   ]
  },
  {
   "cell_type": "code",
   "execution_count": 75,
   "metadata": {},
   "outputs": [
    {
     "data": {
      "image/png": "[encoded data removed]",
      "text/plain": [
       "<Figure size 432x288 with 1 Axes>"
      ]
     },
     "metadata": {},
     "output_type": "display_data"
    }
   ],
   "source": [
    "# percentage of different scan performed\n",
    "scans = [MR, CT]\n",
    "labels1 = ['MR', 'CT']\n",
    "cols = ['c','m']\n",
    "plt.pie(scans, labels = labels1, colors = cols, startangle=90, shadow=True,\n",
    "        explode = (0,0.05), autopct='%1.1f%%')\n",
    "plt.show()"
   ]
  },
  {
   "cell_type": "code",
   "execution_count": 76,
   "metadata": {},
   "outputs": [],
   "source": [
    "#Answer client is looking for into rdd\n",
    "Problem_statement_5 = sc.parallelize([total_inv,total1, percentage_average])\n",
    "\n",
    "#rdd into csv\n",
    "Problem_statement_5.saveAsTextFile('file:///home/cloudera//assignment/Aamir_Nawab/juptyer_notebook/problem_statements/problem_statement_5')"
   ]
  },
  {
   "cell_type": "markdown",
   "metadata": {},
   "source": [
    "# Problem Statement 6 - Spark DataFrame"
   ]
  },
  {
   "cell_type": "code",
   "execution_count": 77,
   "metadata": {},
   "outputs": [
    {
     "name": "stdout",
     "output_type": "stream",
     "text": [
      "+------------------------+-----+\n",
      "|cast(imaging_age as int)|count|\n",
      "+------------------------+-----+\n",
      "|                       2|  213|\n",
      "|                       3|  210|\n",
      "|                       5|  202|\n",
      "|                       0|  160|\n",
      "|                       8|  119|\n",
      "|                       7|  115|\n",
      "|                      10|  100|\n",
      "|                       9|   95|\n",
      "|                       1|   94|\n",
      "|                      13|   84|\n",
      "+------------------------+-----+\n",
      "only showing top 10 rows\n",
      "\n"
     ]
    }
   ],
   "source": [
    "greatest_number_of_CTs_on_age = imaging_df.where(imaging_df['modality'].isin('CT'))\\\n",
    ".groupBy(imaging_df.imaging_age.cast(IntegerType())).count().sort('count', ascending=False)\\\n",
    ".withColumnRenamed('CAST(imaging_age AS INT)','age')\n",
    "\n",
    "greatest_number_of_CTs_on_age.show(10)"
   ]
  },
  {
   "cell_type": "markdown",
   "metadata": {},
   "source": [
    "# Problem Statement 6 - RDD"
   ]
  },
  {
   "cell_type": "code",
   "execution_count": 78,
   "metadata": {},
   "outputs": [
    {
     "data": {
      "text/plain": [
       "[Row(cast(imaging_age as int)=2, count=213),\n",
       " Row(cast(imaging_age as int)=3, count=210),\n",
       " Row(cast(imaging_age as int)=5, count=202),\n",
       " Row(cast(imaging_age as int)=0, count=160),\n",
       " Row(cast(imaging_age as int)=8, count=119),\n",
       " Row(cast(imaging_age as int)=7, count=115),\n",
       " Row(cast(imaging_age as int)=10, count=100),\n",
       " Row(cast(imaging_age as int)=9, count=95),\n",
       " Row(cast(imaging_age as int)=1, count=94),\n",
       " Row(cast(imaging_age as int)=13, count=84)]"
      ]
     },
     "execution_count": 78,
     "metadata": {},
     "output_type": "execute_result"
    }
   ],
   "source": [
    "#Looking specifically at CT imaging, the client would like to know the year group (i.e. you will need to group the ages of encounter into years) which is given the greatest number of CTs.\n",
    "\n",
    "greatest_number_of_CTs_on_age_rdd = imaging_rdd.filter(lambda x: x[1]=='CT').map(lambda x: (int(float(x[0])), x[1])).map(lambda x: (x[0], 1)).reduceByKey(lambda x1,y1: x1+y1).sortBy(lambda x: x[1],False)\n",
    "\n",
    "greatest_number_of_CTs_on_age.take(10)"
   ]
  },
  {
   "cell_type": "markdown",
   "metadata": {},
   "source": [
    "# Problem Statement 6 - Data Visualisation"
   ]
  },
  {
   "cell_type": "code",
   "execution_count": 79,
   "metadata": {},
   "outputs": [
    {
     "data": {
      "text/plain": [
       "<matplotlib.axes._subplots.AxesSubplot at 0x7f96bbdda810>"
      ]
     },
     "execution_count": 79,
     "metadata": {},
     "output_type": "execute_result"
    },
    {
     "data": {
      "image/png": "[encoded data removed]",
      "text/plain": [
       "<Figure size 1280x800 with 1 Axes>"
      ]
     },
     "metadata": {},
     "output_type": "display_data"
    }
   ],
   "source": [
    "# Data Visualisation \n",
    "data_df  = pd.DataFrame(data = greatest_number_of_CTs_on_age.take(10))\n",
    "fig, ax = plt.subplots(figsize=(16,10), dpi= 80)    \n",
    "sns.stripplot(x=data_df[0], y=data_df[1], data =data_df, jitter=0.25, size=16, ax=ax, linewidth=.5)\n"
   ]
  },
  {
   "cell_type": "code",
   "execution_count": 80,
   "metadata": {},
   "outputs": [],
   "source": [
    "#load DataFrame into CSV file\n",
    "greatest_number_of_CTs_on_age.write.format('com.databricks.spark.csv')\\\n",
    ".save('file:///home/cloudera//assignment/Aamir_Nawab/juptyer_notebook/problem_statements/problem_statement_6')"
   ]
  },
  {
   "cell_type": "markdown",
   "metadata": {},
   "source": [
    "# Problem Statement 7 "
   ]
  },
  {
   "cell_type": "code",
   "execution_count": 81,
   "metadata": {},
   "outputs": [
    {
     "name": "stdout",
     "output_type": "stream",
     "text": [
      "+---------+--------------+------+\n",
      "|age_group|diagnosis_code| count|\n",
      "+---------+--------------+------+\n",
      "|        0|         V20.2|148071|\n",
      "|        2|    382.900000| 72800|\n",
      "|        1|         V20.2| 54298|\n",
      "|        3|         V20.2| 48738|\n",
      "|        5|         V20.2| 40079|\n",
      "|        8|         V20.2| 17314|\n",
      "|        7|         V20.2| 17284|\n",
      "|        9|         V20.2| 14998|\n",
      "|        4|    382.900000| 12547|\n",
      "|       10|         V20.2| 10611|\n",
      "+---------+--------------+------+\n",
      "only showing top 10 rows\n",
      "\n"
     ]
    }
   ],
   "source": [
    "#PROBLEM STATEMENT 7\n",
    "#For each year group, the client would like to visualize the most frequent diagnosis code\n",
    "\n",
    "#round diagnosis age, group diagnosis age and diagnosis code and count frequncy of each diagnosis code for each group\n",
    "import pyspark.sql.functions as func\n",
    "from pyspark.sql.functions import row_number\n",
    "from pyspark.sql.window import *\n",
    "from pyspark.sql import HiveContext\n",
    "sqlContext = HiveContext(sc)\n",
    "\n",
    "diagnoses_df_1 = sqlContext.read.format('com.databricks.spark.csv')\\\n",
    ".options(header = 'true').schema(diagnoses_schema)\\\n",
    ".load('file:/home/cloudera/assignment/Aamir_Nawab/juptyer_notebook/diagnoses.csv')\n",
    "\n",
    "frequency_of_diagnosis_code = diagnoses_df_1.groupby(diagnoses_df_1.diagnosis_age.cast(IntegerType()),\"diagnosis_code\").count().sort('count', ascending=False)\\\n",
    ".withColumnRenamed('CAST(diagnosis_age AS INT)','age_group')\n",
    "\n",
    "#For each group show only the most frequent diagnosis code and its count   \n",
    "\n",
    "most_frequent_diagnosis_code = frequency_of_diagnosis_code.withColumn(\"maxrow_num\", func.max(\"count\").over(Window.partitionBy(\"age_group\")))\\\n",
    ".where(func.col(\"count\") == func.col(\"maxrow_num\")).drop(\"maxrow_num\").sort('count', ascending=False)\n",
    "\n",
    "most_frequent_diagnosis_code.show(10)\n"
   ]
  },
  {
   "cell_type": "code",
   "execution_count": 83,
   "metadata": {},
   "outputs": [],
   "source": [
    "#Problem Statement 7 load into CSV file for visualisation\n",
    "most_frequent_diagnosis_code.write.format('com.databricks.spark.csv')\\\n",
    ".save('file:///home/cloudera//assignment/Aamir_Nawab/juptyer_notebook/problem_statements/problem_statement_7')"
   ]
  },
  {
   "cell_type": "code",
   "execution_count": 85,
   "metadata": {},
   "outputs": [
    {
     "data": {
      "text/plain": [
       "256"
      ]
     },
     "execution_count": 85,
     "metadata": {},
     "output_type": "execute_result"
    }
   ],
   "source": [
    "#Problem Statement 7 concatenate all of the part files into 1 csv \n",
    "\n",
    "os.system(\"cat ~/assignment/Aamir_Nawab/juptyer_notebook/problem_statements/problem_statement_7/p* > ~/assignment/Aamir_Nawab/juptyer_notebook/problem_statements/problem_statement_7/problem_statement_7.csv\")"
   ]
  },
  {
   "cell_type": "code",
   "execution_count": null,
   "metadata": {},
   "outputs": [],
   "source": []
  }
 ],
 "metadata": {
  "kernelspec": {
   "display_name": "Python 2",
   "language": "python",
   "name": "python2"
  },
  "language_info": {
   "codemirror_mode": {
    "name": "ipython",
    "version": 2
   },
   "file_extension": ".py",
   "mimetype": "text/x-python",
   "name": "python",
   "nbconvert_exporter": "python",
   "pygments_lexer": "ipython2",
   "version": "2.7.16"
  }
 },
 "nbformat": 4,
 "nbformat_minor": 2
}
